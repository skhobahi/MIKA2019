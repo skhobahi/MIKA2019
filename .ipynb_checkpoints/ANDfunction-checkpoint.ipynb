{
 "cells": [
  {
   "cell_type": "markdown",
   "metadata": {},
   "source": [
    "# AND関数の学習\n",
    "\n",
    "[![Open In Colab](https://colab.research.google.com/assets/colab-badge.svg)](https://colab.research.google.com/github/wadayama/MIKA2019/blob/master/ANDfunction.ipynb)\n",
    "\n",
    "本ノートブックでは、ニューラルネットワークによりAND関数 AND(a,b)の学習を行う。"
   ]
  },
  {
   "cell_type": "markdown",
   "metadata": {},
   "source": [
    "## 必要なパッケージのインポート"
   ]
  },
  {
   "cell_type": "code",
   "execution_count": null,
   "metadata": {},
   "outputs": [],
   "source": [
    "import torch # テンソル計算など\n",
    "import torch.nn as nn  # ネットワーク構築用\n",
    "import torch.optim as optim  # 最適化関数"
   ]
  },
  {
   "cell_type": "markdown",
   "metadata": {},
   "source": [
    "## グローバル定数の設定"
   ]
  },
  {
   "cell_type": "code",
   "execution_count": null,
   "metadata": {},
   "outputs": [],
   "source": [
    "mbs = 5 # ミニバッチサイズ"
   ]
  },
  {
   "cell_type": "markdown",
   "metadata": {},
   "source": [
    "## ネットワークの定義"
   ]
  },
  {
   "cell_type": "code",
   "execution_count": null,
   "metadata": {},
   "outputs": [],
   "source": [
    "class Net(nn.Module): # nn.Module を継承\n",
    "    def __init__(self): # コンストラクタ\n",
    "        super(Net, self).__init__()\n",
    "        self.fc1 = nn.Linear(2, 2)  # W_1, b_1\n",
    "        self.fc2 = nn.Linear(2, 1)  # W_2, b_2\n",
    "    def forward(self, x): # 推論計算をforwardに書く\n",
    "        x = torch.sigmoid(self.fc1(x)) # 活性化関数としてシグモイド関数を利用\n",
    "        x = torch.sigmoid(self.fc2(x))\n",
    "        return x"
   ]
  },
  {
   "cell_type": "markdown",
   "metadata": {},
   "source": [
    "## ミニバッチ生成関数"
   ]
  },
  {
   "cell_type": "code",
   "execution_count": null,
   "metadata": {},
   "outputs": [],
   "source": [
    "def gen_minibatch():\n",
    "    inputs = torch.bernoulli(0.5 * torch.ones(mbs, 2))  # (0,1)ランダム乱数テンソル(サイズ mbs x 2)\n",
    "    result = torch.Tensor(mbs, 1)\n",
    "    for j in range(mbs):\n",
    "        if (inputs[j, 0] == 1.0) and (inputs[j, 1] == 1.0): # AND関数\n",
    "            result[j] = 1.0\n",
    "        else:\n",
    "            result[j] = 0.0\n",
    "    return inputs, result"
   ]
  },
  {
   "cell_type": "code",
   "execution_count": null,
   "metadata": {},
   "outputs": [],
   "source": [
    "inputs,result = gen_minibatch() # ミニバッチ生成の実行例\n",
    "print('inputs = ', inputs)\n",
    "print('result = ', result)"
   ]
  },
  {
   "cell_type": "markdown",
   "metadata": {},
   "source": [
    "## 訓練ループ"
   ]
  },
  {
   "cell_type": "code",
   "execution_count": null,
   "metadata": {},
   "outputs": [],
   "source": [
    "model= Net() # ネットワークインスタンス生成\n",
    "loss_func = nn.MSELoss() # 損失関数の生成(二乗損失関数)\n",
    "optimizer = optim.Adam(model.parameters(), lr=0.1) # オプティマイザの生成(Adamを利用)\n",
    "for i in range(1000):\n",
    "    inputs, result = gen_minibatch() # ミニバッチの生成\n",
    "    optimizer.zero_grad()  # オプティマイザの勾配情報初期化\n",
    "    outputs = model(inputs)  # 推論計算\n",
    "    loss = loss_func(outputs, result)  # 損失値の計算\n",
    "    loss.backward()  # 誤差逆伝播法(後ろ向き計算の実行)\n",
    "    optimizer.step()  # 学習可能パラメータの更新\n",
    "    if i % 100 == 0:\n",
    "        print('i =', i, 'loss =', loss.item())"
   ]
  },
  {
   "cell_type": "markdown",
   "metadata": {},
   "source": [
    "## 結果表示用の関数"
   ]
  },
  {
   "cell_type": "code",
   "execution_count": null,
   "metadata": {},
   "outputs": [],
   "source": [
    "def display(a,b):\n",
    "    inputs = torch.Tensor(1, 2)\n",
    "    inputs.data[0, 0] = a\n",
    "    inputs.data[0, 1] = b\n",
    "    with torch.no_grad():\n",
    "        outputs = model(inputs)\n",
    "    print('%f & %f = %.4f' % (a, b, outputs.data[0, 0]))"
   ]
  },
  {
   "cell_type": "markdown",
   "metadata": {},
   "source": [
    "## 学習結果の評価"
   ]
  },
  {
   "cell_type": "code",
   "execution_count": null,
   "metadata": {},
   "outputs": [],
   "source": [
    "display(0., 0.)\n",
    "display(0., 1.)\n",
    "display(1., 0.)\n",
    "display(1., 1.)"
   ]
  },
  {
   "cell_type": "markdown",
   "metadata": {},
   "source": [
    "## 学習後の学習可能パラメータの値の表示"
   ]
  },
  {
   "cell_type": "code",
   "execution_count": null,
   "metadata": {},
   "outputs": [],
   "source": [
    "print(model.fc1.weight) # 学習結果(W_1)\n",
    "print(model.fc1.bias) # 学習結果(b_1)\n",
    "print(model.fc2.weight) # 学習結果(W_2)\n",
    "print(model.fc2.bias) # 学習結果(b_2)"
   ]
  }
 ],
 "metadata": {
  "kernelspec": {
   "display_name": "Python 3",
   "language": "python",
   "name": "python3"
  },
  "language_info": {
   "codemirror_mode": {
    "name": "ipython",
    "version": 3
   },
   "file_extension": ".py",
   "mimetype": "text/x-python",
   "name": "python",
   "nbconvert_exporter": "python",
   "pygments_lexer": "ipython3",
   "version": "3.7.3"
  }
 },
 "nbformat": 4,
 "nbformat_minor": 2
}
