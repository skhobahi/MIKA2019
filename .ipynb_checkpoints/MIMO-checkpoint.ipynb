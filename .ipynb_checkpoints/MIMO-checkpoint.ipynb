{
 "cells": [
  {
   "cell_type": "markdown",
   "metadata": {},
   "source": [
    "# ニューラルネットーワークに基づく(実数)MIMO検出\n",
    "\n",
    "[![Open In Colab](https://colab.research.google.com/assets/colab-badge.svg)](https://colab.research.google.com/github/wadayama/MIKA2019/blob/master/MIMO.ipynb)\n",
    "\n",
    "本ノートブックでは、ニューラルネットワークにより実数体上のMIMO検出問題を行う。概要は次のとおり。\n",
    "* $H \\in \\mathbb{R}^{4 \\times 4}$: 干渉行列 (各要素は平均0, 分散1のガウス分布に従う)\n",
    "* $y = x H + w$: 受信ベクトル(行ベクトル)\n",
    "* 注意: テキストとは異なっており、行と列が入れ替わっている。本ノートの中ではベクトルはデフォルトで行ベクトル\n",
    "* $x \\in \\{+1, -1 \\}^4$\n",
    "* $w \\in \\mathbb{R}^4$: 各要素が平均0、分散$\\sigma^2$のガウス分布に従う乱数ベクトル\n",
    "* 目標は、受信ベクトルである$y$から送信ベクトル$x$を可能な限り正しく推定すること"
   ]
  },
  {
   "cell_type": "markdown",
   "metadata": {},
   "source": [
    "## 必要なパッケージのインポート"
   ]
  },
  {
   "cell_type": "code",
   "execution_count": 171,
   "metadata": {},
   "outputs": [],
   "source": [
    "import torch # テンソル計算など\n",
    "import torch.nn as nn  # ネットワーク構築用\n",
    "import torch.optim as optim  # 最適化関数"
   ]
  },
  {
   "cell_type": "markdown",
   "metadata": {},
   "source": [
    "## グローバル定数の設定"
   ]
  },
  {
   "cell_type": "code",
   "execution_count": 172,
   "metadata": {},
   "outputs": [],
   "source": [
    "mbs = 5 # ミニバッチサイズ\n",
    "noise_std = 0.5 # 通信路において重畳される加法的白色ガウス雑音の標準偏差 (\\sigma)\n",
    "n = 4 # アンテナ数\n",
    "h = 30 # 隠れ層のユニット数\n",
    "H = torch.normal(mean=torch.zeros(n, n), std=1.0) # 干渉行列\n",
    "adam_lr = 0.001 # Adamの学習率"
   ]
  },
  {
   "cell_type": "markdown",
   "metadata": {},
   "source": [
    "## 干渉行列の確認"
   ]
  },
  {
   "cell_type": "code",
   "execution_count": 173,
   "metadata": {},
   "outputs": [
    {
     "name": "stdout",
     "output_type": "stream",
     "text": [
      "tensor([[-0.0288, -0.0054, -0.6077,  0.0784],\n",
      "        [ 0.6752,  0.6920,  0.6023, -0.1767],\n",
      "        [-0.3585, -0.8466, -2.3116, -0.9343],\n",
      "        [-0.0235,  1.4015, -0.3339, -0.2063]])\n"
     ]
    }
   ],
   "source": [
    "print(H)"
   ]
  },
  {
   "cell_type": "markdown",
   "metadata": {},
   "source": [
    "## ネットワークの定義"
   ]
  },
  {
   "cell_type": "code",
   "execution_count": 174,
   "metadata": {},
   "outputs": [],
   "source": [
    "class Net(nn.Module): # nn.Module を継承\n",
    "    def __init__(self): # コンストラクタ\n",
    "        super(Net, self).__init__()\n",
    "        self.detector = nn.Sequential(\n",
    "            nn.Linear(n, h),  # W_1, b_1,\n",
    "            nn.ReLU(), # 活性化関数としてReLUを利用\n",
    "            nn.Linear(h, h), # W_2, b_2\n",
    "            nn.ReLU(),\n",
    "            nn.Linear(h, n)  # W_3, b_3\n",
    "        )\n",
    "    def forward(self, x): # 推論計算をforwardに書く\n",
    "        x = self.detector(x)\n",
    "        x = torch.tanh(x) # x \\in {+1,-1}^4 なので、最終層はtanhを利用\n",
    "        return x"
   ]
  },
  {
   "cell_type": "markdown",
   "metadata": {},
   "source": [
    "## ミニバッチ生成関数"
   ]
  },
  {
   "cell_type": "code",
   "execution_count": 175,
   "metadata": {},
   "outputs": [],
   "source": [
    "def gen_minibatch():\n",
    "    x = 1.0 - 2.0 * torch.randint(0, 2, (mbs, n)) # 送信ベクトル x をランダムに生成\n",
    "    x = x.float()\n",
    "    w = torch.normal(mean=torch.zeros(mbs, n), std = noise_std) # 加法的白色ガウス雑音の生成\n",
    "    y = torch.mm(x, H) + w\n",
    "    return x, y"
   ]
  },
  {
   "cell_type": "markdown",
   "metadata": {},
   "source": [
    "## ミニバッチ生成関数の実行例"
   ]
  },
  {
   "cell_type": "code",
   "execution_count": 176,
   "metadata": {},
   "outputs": [
    {
     "name": "stdout",
     "output_type": "stream",
     "text": [
      "x =  tensor([[-1., -1.,  1.,  1.],\n",
      "        [ 1., -1., -1.,  1.],\n",
      "        [ 1., -1., -1.,  1.],\n",
      "        [ 1., -1.,  1.,  1.],\n",
      "        [-1., -1., -1.,  1.]])\n",
      "y =  tensor([[-0.7964, -0.7260, -1.6681, -0.9103],\n",
      "        [-0.4008,  1.4280,  1.8976,  1.1867],\n",
      "        [-0.4249,  0.4857,  0.5825,  1.3617],\n",
      "        [-2.0863, -0.3287, -3.6604, -0.5243],\n",
      "        [-0.0440,  2.0828,  2.5914,  1.1199]])\n"
     ]
    }
   ],
   "source": [
    "x, y = gen_minibatch()\n",
    "print('x = ', x)\n",
    "print('y = ', y)"
   ]
  },
  {
   "cell_type": "markdown",
   "metadata": {},
   "source": [
    "## 訓練ループ"
   ]
  },
  {
   "cell_type": "code",
   "execution_count": 177,
   "metadata": {},
   "outputs": [
    {
     "name": "stdout",
     "output_type": "stream",
     "text": [
      "i = 0 loss = 0.8283641934394836\n",
      "i = 1000 loss = 0.3105224370956421\n",
      "i = 2000 loss = 0.2893443703651428\n",
      "i = 3000 loss = 0.09627056866884232\n",
      "i = 4000 loss = 0.537150502204895\n",
      "i = 5000 loss = 0.172012060880661\n",
      "i = 6000 loss = 0.22211715579032898\n",
      "i = 7000 loss = 0.3418005704879761\n",
      "i = 8000 loss = 0.10995860397815704\n",
      "i = 9000 loss = 0.27566611766815186\n"
     ]
    }
   ],
   "source": [
    "model     = Net() # ネットワークインスタンス生成\n",
    "loss_func = nn.MSELoss() # 損失関数の指定(二乗損失関数)\n",
    "optimizer = optim.Adam(model.parameters(), lr=adam_lr) # オプティマイザの指定(Adamを利用)\n",
    "for i in range(10000):\n",
    "    x, y = gen_minibatch() # ミニバッチの生成\n",
    "    optimizer.zero_grad()  # オプティマイザの勾配情報初期化\n",
    "    estimate = model(y)  # 推論計算\n",
    "    loss = loss_func(x, estimate)  # 損失値の計算\n",
    "    loss.backward()  # 誤差逆伝播法(後ろ向き計算の実行)\n",
    "    optimizer.step()  # 学習可能パラメータの更新\n",
    "    if i % 1000 == 0:\n",
    "        print('i =', i, 'loss =', loss.item())"
   ]
  },
  {
   "cell_type": "markdown",
   "metadata": {},
   "source": [
    "## 学習結果の確認"
   ]
  },
  {
   "cell_type": "code",
   "execution_count": 178,
   "metadata": {},
   "outputs": [
    {
     "name": "stdout",
     "output_type": "stream",
     "text": [
      "x =  tensor([[-1., -1., -1.,  1.]])\n",
      "y =  tensor([[0.1948, 1.6961, 1.6868, 0.7492]])\n",
      "x_hat =  tensor([[-0.2181, -0.3001, -1.0000,  0.9993]], grad_fn=<TanhBackward>)\n"
     ]
    }
   ],
   "source": [
    "mbs = 1\n",
    "x, y = gen_minibatch()\n",
    "print('x = ', x)\n",
    "print('y = ', y)\n",
    "x_hat = model(y)\n",
    "print('x_hat = ', x_hat)"
   ]
  },
  {
   "cell_type": "markdown",
   "metadata": {},
   "source": [
    "## ゼロフォーシング等化を試す"
   ]
  },
  {
   "cell_type": "code",
   "execution_count": 179,
   "metadata": {},
   "outputs": [
    {
     "name": "stdout",
     "output_type": "stream",
     "text": [
      "x_hat_zero =  tensor([[ 0.1529, -0.1677, -0.9202,  0.7378]])\n"
     ]
    }
   ],
   "source": [
    "Hinv = torch.inverse(H)\n",
    "x_hat_zero = torch.mm(y, Hinv)\n",
    "print('x_hat_zero = ', x_hat_zero)"
   ]
  },
  {
   "cell_type": "markdown",
   "metadata": {},
   "source": [
    "## シンボル誤り率を測定する (ニューラル検出器)"
   ]
  },
  {
   "cell_type": "code",
   "execution_count": 180,
   "metadata": {},
   "outputs": [
    {
     "name": "stdout",
     "output_type": "stream",
     "text": [
      "total_syms =  4000\n",
      "error_syms =  232\n",
      "error prob =  0.058\n"
     ]
    }
   ],
   "source": [
    "total_syms = 0\n",
    "error_syms = 0\n",
    "num_loops  = 1000\n",
    "mbs = 1\n",
    "for i in range(num_loops):\n",
    "    x, y = gen_minibatch()\n",
    "    x_hat = model(y)\n",
    "    total_syms += n\n",
    "    error_syms += (torch.sign(x_hat) != x).sum().item()\n",
    "print('total_syms = ', total_syms)\n",
    "print('error_syms = ', error_syms)\n",
    "print('error prob = ', error_syms/total_syms)"
   ]
  },
  {
   "cell_type": "markdown",
   "metadata": {},
   "source": [
    "## シンボル誤り率を測定する(ZF検出器)"
   ]
  },
  {
   "cell_type": "code",
   "execution_count": 181,
   "metadata": {},
   "outputs": [
    {
     "name": "stdout",
     "output_type": "stream",
     "text": [
      "total_syms =  4000\n",
      "error_syms =  405\n",
      "error prob =  0.10125\n"
     ]
    }
   ],
   "source": [
    "total_syms = 0\n",
    "error_syms = 0\n",
    "num_loops  = 1000\n",
    "mbs = 1\n",
    "Hinv = torch.inverse(H)\n",
    "for i in range(num_loops):\n",
    "    x, y = gen_minibatch()\n",
    "    x_hat = torch.mm(y, Hinv)\n",
    "    total_syms += n\n",
    "    error_syms += (torch.sign(x_hat) != x).sum().item()\n",
    "print('total_syms = ', total_syms)\n",
    "print('error_syms = ', error_syms)\n",
    "print('error prob = ', error_syms/total_syms)"
   ]
  },
  {
   "cell_type": "code",
   "execution_count": null,
   "metadata": {},
   "outputs": [],
   "source": []
  }
 ],
 "metadata": {
  "kernelspec": {
   "display_name": "Python 3",
   "language": "python",
   "name": "python3"
  },
  "language_info": {
   "codemirror_mode": {
    "name": "ipython",
    "version": 3
   },
   "file_extension": ".py",
   "mimetype": "text/x-python",
   "name": "python",
   "nbconvert_exporter": "python",
   "pygments_lexer": "ipython3",
   "version": "3.7.3"
  }
 },
 "nbformat": 4,
 "nbformat_minor": 2
}
