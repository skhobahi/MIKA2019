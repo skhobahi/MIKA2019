{
 "cells": [
  {
   "cell_type": "markdown",
   "metadata": {},
   "source": [
    "# 自己符号化器で通信系をモデリングする（AWGN通信路）\n",
    "\n",
    "[![Open In Colab](https://colab.research.google.com/assets/colab-badge.svg)](https://colab.research.google.com/github/wadayama/MIKA2019/blob/master/autoencoder.ipynb)"
   ]
  },
  {
   "cell_type": "markdown",
   "metadata": {},
   "source": [
    "## 必要なライブラリをインポートする"
   ]
  },
  {
   "cell_type": "code",
   "execution_count": 33,
   "metadata": {},
   "outputs": [],
   "source": [
    "import torch\n",
    "import math\n",
    "import torch.nn as nn\n",
    "import torch.optim as optim\n",
    "import matplotlib.pyplot as plt\n",
    "import numpy as np"
   ]
  },
  {
   "cell_type": "markdown",
   "metadata": {},
   "source": [
    "## グローバル定数の設定"
   ]
  },
  {
   "cell_type": "code",
   "execution_count": 34,
   "metadata": {},
   "outputs": [],
   "source": [
    "M   = 8 # 信号点数\n",
    "mbs = 100 # ミニバッチ数\n",
    "num_hidden_units = 10 #隠れ層のユニット数\n",
    "sigma = 0.1 # 通信路雑音の標準偏差"
   ]
  },
  {
   "cell_type": "markdown",
   "metadata": {},
   "source": [
    "## One-hotベクトル(長さ$n$)をランダムに生成する (ミニバッチ生成関数)"
   ]
  },
  {
   "cell_type": "code",
   "execution_count": 35,
   "metadata": {},
   "outputs": [],
   "source": [
    "one_hot_generator = torch.distributions.OneHotCategorical((1.0/M)*torch.ones(mbs, M))\n",
    "def gen_minibatch():\n",
    "    return one_hot_generator.sample()"
   ]
  },
  {
   "cell_type": "markdown",
   "metadata": {},
   "source": [
    "## ネットワークの定義"
   ]
  },
  {
   "cell_type": "code",
   "execution_count": 36,
   "metadata": {},
   "outputs": [],
   "source": [
    "class Net(nn.Module):\n",
    "    def __init__(self):\n",
    "        super(Net, self).__init__()\n",
    "        self.enc1 = nn.Linear(M, num_hidden_units) # 符号化器用レイヤー\n",
    "        self.enc2 = nn.Linear(num_hidden_units, 2) # 符号化器用レイヤー\n",
    "        self.dec1 = nn.Linear(2, num_hidden_units) # 復号器用レイヤー\n",
    "        self.dec2 = nn.Linear(num_hidden_units, M) # 復号器用レイヤー\n",
    "    def normalize(self, x): # 送信信号の正規化\n",
    "        # 等電力制約\n",
    "        #norm = torch.norm(x,dim=1).view(mbs, 1).expand(-1, 2) # Normalization layer\n",
    "        #x = x/norm\n",
    "        # 平均エネルギー制約\n",
    "        norm = torch.sqrt((x.norm(dim=1)**2).sum()/mbs)\n",
    "        x = x/norm\n",
    "        return x\n",
    "    def forward(self, m):\n",
    "        s = torch.relu(self.enc1(m))\n",
    "        s = self.enc2(s)\n",
    "        x = self.normalize(s) # normalization \n",
    "        y = x + torch.normal(torch.zeros(mbs, 2), std=sigma) # AWGN通信路\n",
    "        s = torch.relu(self.dec1(y))\n",
    "        m_hat = torch.softmax(self.dec2(s), dim=1)\n",
    "        return m_hat, y, x"
   ]
  },
  {
   "cell_type": "markdown",
   "metadata": {},
   "source": [
    "## 訓練ループ"
   ]
  },
  {
   "cell_type": "code",
   "execution_count": 37,
   "metadata": {},
   "outputs": [
    {
     "name": "stdout",
     "output_type": "stream",
     "text": [
      "0 0.11857382208108902\n",
      "1000 2.5166664272546768e-05\n",
      "2000 4.730833461508155e-05\n",
      "3000 7.171371407821425e-07\n",
      "4000 5.571807832893683e-07\n"
     ]
    }
   ],
   "source": [
    "model = Net()\n",
    "loss_func = nn.MSELoss()\n",
    "optimizer = optim.Adam(model.parameters(), lr=0.01)\n",
    "for i in range(5000):\n",
    "    m = gen_minibatch()\n",
    "    optimizer.zero_grad()\n",
    "    m_hat, _, _ = model(m)\n",
    "    loss = loss_func(m_hat, m)\n",
    "    loss.backward()  \n",
    "    optimizer.step()  \n",
    "    if i % 1000 == 0:\n",
    "        print(i, loss.item())"
   ]
  },
  {
   "cell_type": "markdown",
   "metadata": {},
   "source": [
    "## 再現実験"
   ]
  },
  {
   "cell_type": "code",
   "execution_count": 38,
   "metadata": {},
   "outputs": [],
   "source": [
    "m = gen_minibatch()\n",
    "m_hat, y, x = model(m)\n",
    "x_re = x[:, 0].detach().numpy()\n",
    "x_im = x[:, 1].detach().numpy()\n",
    "y_re = y[:, 0].detach().numpy()\n",
    "y_im = y[:, 1].detach().numpy()"
   ]
  },
  {
   "cell_type": "markdown",
   "metadata": {},
   "source": [
    "## 送信信号点配置を表示"
   ]
  },
  {
   "cell_type": "code",
   "execution_count": 39,
   "metadata": {},
   "outputs": [
    {
     "data": {
      "text/plain": [
       "<matplotlib.collections.PathCollection at 0x129c256a0>"
      ]
     },
     "execution_count": 39,
     "metadata": {},
     "output_type": "execute_result"
    },
    {
     "data": {
      "image/png": "[encoded data removed]",
      "text/plain": [
       "<Figure size 360x360 with 1 Axes>"
      ]
     },
     "metadata": {
      "needs_background": "light"
     },
     "output_type": "display_data"
    }
   ],
   "source": [
    "plt.figure(figsize=(5,5))\n",
    "plt.xlim([-1.5,1.5])\n",
    "plt.ylim([-1.5,1.5])\n",
    "plt.grid()\n",
    "plt.gca().set_aspect('equal', adjustable='box')\n",
    "plt.scatter(x_re, x_im)"
   ]
  },
  {
   "cell_type": "markdown",
   "metadata": {},
   "source": [
    "## 受信信号点を表示"
   ]
  },
  {
   "cell_type": "code",
   "execution_count": 40,
   "metadata": {},
   "outputs": [
    {
     "data": {
      "text/plain": [
       "<matplotlib.collections.PathCollection at 0x129c7d7b8>"
      ]
     },
     "execution_count": 40,
     "metadata": {},
     "output_type": "execute_result"
    },
    {
     "data": {
      "image/png": "[encoded data removed]",
      "text/plain": [
       "<Figure size 360x360 with 1 Axes>"
      ]
     },
     "metadata": {
      "needs_background": "light"
     },
     "output_type": "display_data"
    }
   ],
   "source": [
    "plt.figure(figsize=(5,5))\n",
    "plt.xlim([-1.5,1.5])\n",
    "plt.ylim([-1.5,1.5])\n",
    "plt.grid()\n",
    "plt.gca().set_aspect('equal', adjustable='box')\n",
    "plt.scatter(y_re, y_im)"
   ]
  }
 ],
 "metadata": {
  "kernelspec": {
   "display_name": "Python 3",
   "language": "python",
   "name": "python3"
  },
  "language_info": {
   "codemirror_mode": {
    "name": "ipython",
    "version": 3
   },
   "file_extension": ".py",
   "mimetype": "text/x-python",
   "name": "python",
   "nbconvert_exporter": "python",
   "pygments_lexer": "ipython3",
   "version": "3.7.3"
  }
 },
 "nbformat": 4,
 "nbformat_minor": 2
}
