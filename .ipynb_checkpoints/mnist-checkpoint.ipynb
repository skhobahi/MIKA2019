{
 "cells": [
  {
   "cell_type": "markdown",
   "metadata": {},
   "source": [
    "# MNIST認識のシンプルなコード"
   ]
  },
  {
   "cell_type": "markdown",
   "metadata": {},
   "source": [
    "## 必要なパッケージをインポート"
   ]
  },
  {
   "cell_type": "code",
   "execution_count": null,
   "metadata": {},
   "outputs": [],
   "source": [
    "import torch\n",
    "import torch.nn as nn\n",
    "from torchvision import datasets, transforms\n",
    "import torch.nn.functional as F\n",
    "import torch.optim as optim\n",
    "import time"
   ]
  },
  {
   "cell_type": "markdown",
   "metadata": {},
   "source": [
    "## グローバル定数の設定"
   ]
  },
  {
   "cell_type": "code",
   "execution_count": null,
   "metadata": {},
   "outputs": [],
   "source": [
    "batch_size = 200                # ミニバッチサイズ\n",
    "device = torch.device('cpu') # デバイスの指定 (GPUで実行する場合は'cuda'を指定)\n",
    "sgd_lr = 0.1 # SGDの学習率"
   ]
  },
  {
   "cell_type": "markdown",
   "metadata": {},
   "source": [
    "## データローダの準備 (MNISTデータのダウンロードも含む)"
   ]
  },
  {
   "cell_type": "code",
   "execution_count": null,
   "metadata": {},
   "outputs": [],
   "source": [
    "root = '.' # mnistデータの置き場所\n",
    "download = True\n",
    "trans = transforms.Compose([transforms.ToTensor(), transforms.Normalize((0.5,), (1.0,))])\n",
    "train_set = datasets.MNIST(root=root, train=True, transform=trans, download=download)\n",
    "test_set = datasets.MNIST(root=root, train=False, transform=trans)\n",
    "# ローダの準備\n",
    "train_loader = torch.utils.data.DataLoader(dataset=train_set, batch_size=batch_size, shuffle=True)\n",
    "test_loader = torch.utils.data.DataLoader(dataset=test_set, batch_size=batch_size, shuffle=False)"
   ]
  },
  {
   "cell_type": "markdown",
   "metadata": {},
   "source": [
    "## モデルの定義\n"
   ]
  },
  {
   "cell_type": "code",
   "execution_count": null,
   "metadata": {},
   "outputs": [],
   "source": [
    "class Net(nn.Module): \n",
    "    def __init__(self):\n",
    "        super(Net, self).__init__() \n",
    "        self.l1 = nn.Linear(784, 784) # 28 x 28 = 784 次元の入力\n",
    "        self.l2 = nn.Linear(784, 784)\n",
    "        self.l3 = nn.Linear(784, 10)\n",
    "\n",
    "    def forward(self, x):\n",
    "        x = F.relu(self.l1(x))\n",
    "        x = F.relu(self.l2(x))\n",
    "        x = self.l3(x)\n",
    "        return F.log_softmax(x, dim=1)"
   ]
  },
  {
   "cell_type": "markdown",
   "metadata": {},
   "source": [
    "## 訓練ループ"
   ]
  },
  {
   "cell_type": "code",
   "execution_count": null,
   "metadata": {},
   "outputs": [],
   "source": [
    "model = Net().to(device) # モデルのインスタンス生成\n",
    "optimizer = optim.SGD(model.parameters(), lr=sgd_lr)\n",
    "running_loss = 0.0\n",
    "i = 0\n",
    "for loop in range(3): # 3エポックの訓練\n",
    "    for (input, target) in train_loader:\n",
    "        i = i + 1\n",
    "        input, target = input.to(device), target.to(device)\n",
    "        input = input.view(-1, 28*28) # テンソルのサイズを整える\n",
    "        optimizer.zero_grad()    # optimizerの初期化\n",
    "        output = model(input)     # 推論計算\n",
    "        loss = F.nll_loss(output, target) # 損失関数の定義\n",
    "        loss.backward()             # バックプロパゲーション(後ろ向き計算)\n",
    "        optimizer.step()            # パラメータ更新\n",
    "        running_loss += loss.item()\n",
    "        if i % 100 == 99:    # print every 100 mini-batches\n",
    "            print('[%5d] loss: %.3f' %\n",
    "                  (i + 1, running_loss / 100))\n",
    "            running_loss = 0.0"
   ]
  },
  {
   "cell_type": "markdown",
   "metadata": {},
   "source": [
    "## 精度の評価"
   ]
  },
  {
   "cell_type": "code",
   "execution_count": null,
   "metadata": {},
   "outputs": [],
   "source": [
    "correct =  0 # 正解数\n",
    "count = 0 # 試行数\n",
    "with torch.no_grad():\n",
    "    for (input, target) in test_loader:\n",
    "        input, target = input.to(device), target.to(device)\n",
    "        input = input.view(-1, 28*28)\n",
    "        output = model(input)     # 推論計算\n",
    "        pred = output.data.max(1)[1]\n",
    "        correct += pred.eq(target.data).sum()\n",
    "        count += batch_size\n",
    "print ('accuracy = ', float(correct)/float(count)) # 正解率の表示"
   ]
  }
 ],
 "metadata": {
  "kernelspec": {
   "display_name": "Python 3",
   "language": "python",
   "name": "python3"
  },
  "language_info": {
   "codemirror_mode": {
    "name": "ipython",
    "version": 3
   },
   "file_extension": ".py",
   "mimetype": "text/x-python",
   "name": "python",
   "nbconvert_exporter": "python",
   "pygments_lexer": "ipython3",
   "version": "3.7.3"
  }
 },
 "nbformat": 4,
 "nbformat_minor": 4
}
