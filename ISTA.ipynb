{
 "cells": [
  {
   "cell_type": "markdown",
   "metadata": {},
   "source": [
    "# 学習型ISTAによるスパース信号再現\n",
    "\n",
    "[![Open In Colab](https://colab.research.google.com/assets/colab-badge.svg)](https://colab.research.google.com/github/wadayama/MIKA2019/blob/master/ISTA.ipynb)\n",
    "\n",
    "本アルゴリズムは、TISTA (Ito, Takabe, Wadayama, 2019)\n",
    "\n",
    "https://ieeexplore.ieee.org/document/8695874\n",
    "\n",
    "をベースとしています(TISTAそのものではありません)。\n",
    "\n",
    "問題設定は次のとおり：\n",
    "* 観測過程は $y = x A^T + w$ とする。\n",
    "* 観測行列$A$は$m \\times n$ 実行列\n",
    "* $A$の各要素はガウス分布（平均0、分散1）に従う。\n",
    "* $x$は長さnのスパースベクトルであり、ガウス・ベルヌーイ分布に従う。\n",
    "* 非ゼロ元の生起確率は$p$であり、非ゼロ要素は平均0、分散1のガウス分布に従う。\n",
    "* $w$は長さmの雑音ベクトルであり、各要素はガウス分布（平均0, 標準偏差sigma）に従う。"
   ]
  },
  {
   "cell_type": "markdown",
   "metadata": {},
   "source": [
    "## 必要なパッケージのインポート"
   ]
  },
  {
   "cell_type": "code",
   "execution_count": 2,
   "metadata": {},
   "outputs": [],
   "source": [
    "import torch\n",
    "import math\n",
    "import torch.nn as nn\n",
    "import torch.optim as optim\n",
    "import matplotlib.pyplot as plt"
   ]
  },
  {
   "cell_type": "markdown",
   "metadata": {},
   "source": [
    "## グローバル定数の設定"
   ]
  },
  {
   "cell_type": "code",
   "execution_count": 3,
   "metadata": {},
   "outputs": [],
   "source": [
    "m = 150 # 観測ベクトル次元\n",
    "n = 300 # 元信号ベクトル次元\n",
    "sigma = 0.05 # 雑音の標準偏差\n",
    "mbs   = 20 # ミニバッチサイズ\n",
    "p     = 0.1 # 元信号の非ゼロ元の生起確率\n",
    "A = torch.normal(torch.zeros(m, n), std = 1.0) # 観測行列\n",
    "max_itr = 20 # ISTAの反復回数\n",
    "adam_lr = 0.0001 # Adamの学習率"
   ]
  },
  {
   "cell_type": "markdown",
   "metadata": {},
   "source": [
    "## ミニバッチ生成関数\n",
    "* mbs $\\times$ n のミニバッチを返す。ひとつの行がスパースベクトルになっている\n",
    "* 非ゼロ要素は確率$p$で生起する\n",
    "* 比ゼロ要素の中身は、平均0, 分散1のガウス分布に従う"
   ]
  },
  {
   "cell_type": "code",
   "execution_count": 4,
   "metadata": {},
   "outputs": [],
   "source": [
    "def gen_minibatch():\n",
    "    seq = torch.normal(torch.zeros(mbs, n), 1.0) # ガウス乱数ベクトルの生成\n",
    "    support = torch.bernoulli(p * torch.ones(mbs, n)) # 非ゼロサポートの生成\n",
    "    return seq * support # 要素ごとの積(アダマール積)になることに注意"
   ]
  },
  {
   "cell_type": "markdown",
   "metadata": {},
   "source": [
    "## 学習可能なISTA クラス\n",
    "* アルゴリズムの詳細の説明は5章にて。\n",
    "* ２種類の学習可能パラメータが導入されている\n",
    "* 縮小関数として、ソフトしきい値関数を利用"
   ]
  },
  {
   "cell_type": "code",
   "execution_count": 5,
   "metadata": {},
   "outputs": [],
   "source": [
    "class ISTA(nn.Module):\n",
    "    def __init__(self, max_itr):\n",
    "        super(ISTA, self).__init__()\n",
    "        self.beta = nn.Parameter(0.001*torch.ones(max_itr)) # 学習可能ステップサイズパラメータ\n",
    "        self.lam  = nn.Parameter(0.1*torch.ones(max_itr)) # 学習可能縮小パラメータ\n",
    "    def shrinkage(self, x, lam): # 縮小関数 (ソフトしきい値関数)\n",
    "        return (x-lam)*(x-lam > 0).float() + (x + lam)*(x+lam < 0).float()\n",
    "    def forward(self, num_itr):\n",
    "        s = torch.zeros(mbs, n) # 初期探索点\n",
    "        for i in range(num_itr):\n",
    "            r = s + self.beta[i] * (y - s @ A.t()) @ A # @は普通の行列・ベクトル積\n",
    "            s = self.shrinkage(r, self.lam[i]) \n",
    "        return s"
   ]
  },
  {
   "cell_type": "markdown",
   "metadata": {},
   "source": [
    "## 訓練ループ(インクリメンタルトレーニング）"
   ]
  },
  {
   "cell_type": "code",
   "execution_count": 6,
   "metadata": {},
   "outputs": [
    {
     "name": "stdout",
     "output_type": "stream",
     "text": [
      "('beta', Parameter containing:\n",
      "tensor([0.0010, 0.0010, 0.0010, 0.0010, 0.0010, 0.0010, 0.0010, 0.0010, 0.0010,\n",
      "        0.0010, 0.0010, 0.0010, 0.0010, 0.0010, 0.0010, 0.0010, 0.0010, 0.0010,\n",
      "        0.0010, 0.0010], requires_grad=True))\n",
      "('lam', Parameter containing:\n",
      "tensor([0.1000, 0.1000, 0.1000, 0.1000, 0.1000, 0.1000, 0.1000, 0.1000, 0.1000,\n",
      "        0.1000, 0.1000, 0.1000, 0.1000, 0.1000, 0.1000, 0.1000, 0.1000, 0.1000,\n",
      "        0.1000, 0.1000], requires_grad=True))\n",
      "0 0.05590994656085968\n",
      "1 0.047295261174440384\n",
      "2 0.033993933349847794\n",
      "3 0.02326088957488537\n",
      "4 0.016236960887908936\n",
      "5 0.02013869769871235\n",
      "6 0.014531373977661133\n",
      "7 0.011121644638478756\n",
      "8 0.007115459535270929\n",
      "9 0.00842995848506689\n",
      "10 0.00735073909163475\n",
      "11 0.005499355029314756\n",
      "12 0.003041329560801387\n",
      "13 0.003450788324698806\n",
      "14 0.0023568253964185715\n",
      "15 0.0015572917181998491\n",
      "16 0.002252683974802494\n",
      "17 0.0020952143240720034\n",
      "18 0.0017694002017378807\n",
      "19 0.0016618460649624467\n"
     ]
    }
   ],
   "source": [
    "model = ISTA(max_itr)\n",
    "opt   = optim.Adam(model.parameters(), lr=adam_lr)\n",
    "loss_func = nn.MSELoss()\n",
    "for param in model.named_parameters():\n",
    "    print(param)\n",
    "for gen in range(max_itr):\n",
    "    for i in range(50):\n",
    "        x = gen_minibatch() # 元信号の生成\n",
    "        w = torch.normal(torch.zeros(mbs, m), sigma)\n",
    "        y = torch.mm(x, A.t()) + w # 観測信号の生成\n",
    "        opt.zero_grad()\n",
    "        x_hat = model(gen + 1)\n",
    "        loss  = loss_func(x_hat, x) \n",
    "        loss.backward()\n",
    "        opt.step()\n",
    "    print(gen, loss.item())"
   ]
  },
  {
   "cell_type": "markdown",
   "metadata": {},
   "source": [
    "## 試験スパース再現\n",
    "\n",
    "学習の完了したモデルを利用して、スパース信号再現を行い、その結果をプロットする"
   ]
  },
  {
   "cell_type": "code",
   "execution_count": 7,
   "metadata": {},
   "outputs": [],
   "source": [
    "mbs = 1\n",
    "with torch.no_grad():\n",
    "    x = gen_minibatch()\n",
    "    w = torch.normal(torch.zeros(m), sigma)\n",
    "    y = torch.mm(x, A.t()) + w\n",
    "    s = model(max_itr)"
   ]
  },
  {
   "cell_type": "markdown",
   "metadata": {},
   "source": [
    "## 元信号の表示"
   ]
  },
  {
   "cell_type": "code",
   "execution_count": 8,
   "metadata": {},
   "outputs": [
    {
     "data": {
      "text/plain": [
       "[<matplotlib.lines.Line2D at 0x13ad27748>]"
      ]
     },
     "execution_count": 8,
     "metadata": {},
     "output_type": "execute_result"
    },
    {
     "data": {
      "image/png": "[encoded data removed]",
      "text/plain": [
       "<Figure size 432x288 with 1 Axes>"
      ]
     },
     "metadata": {},
     "output_type": "display_data"
    }
   ],
   "source": [
    "plt.grid()\n",
    "plt.plot(range(n), x.view(n).cpu().numpy(), color=\"red\")"
   ]
  },
  {
   "cell_type": "markdown",
   "metadata": {},
   "source": [
    "## 再現信号の表示"
   ]
  },
  {
   "cell_type": "code",
   "execution_count": 9,
   "metadata": {},
   "outputs": [
    {
     "data": {
      "text/plain": [
       "[<matplotlib.lines.Line2D at 0x13ad27400>]"
      ]
     },
     "execution_count": 9,
     "metadata": {},
     "output_type": "execute_result"
    },
    {
     "data": {
      "image/png": "[encoded data removed]",
      "text/plain": [
       "<Figure size 432x288 with 1 Axes>"
      ]
     },
     "metadata": {},
     "output_type": "display_data"
    }
   ],
   "source": [
    "plt.grid()\n",
    "plt.plot(range(n), s.view(n).detach().numpy(), color=\"blue\")"
   ]
  },
  {
   "cell_type": "markdown",
   "metadata": {},
   "source": [
    "## 重ねて表示"
   ]
  },
  {
   "cell_type": "code",
   "execution_count": 10,
   "metadata": {},
   "outputs": [
    {
     "data": {
      "text/plain": [
       "[<matplotlib.lines.Line2D at 0x13cee17f0>]"
      ]
     },
     "execution_count": 10,
     "metadata": {},
     "output_type": "execute_result"
    },
    {
     "data": {
      "image/png": "[encoded data removed]",
      "text/plain": [
       "<Figure size 432x288 with 1 Axes>"
      ]
     },
     "metadata": {},
     "output_type": "display_data"
    }
   ],
   "source": [
    "plt.grid()\n",
    "plt.plot(range(n), x.view(n).detach().numpy(), color=\"red\")\n",
    "plt.plot(range(n), s.view(n).detach().numpy(), color=\"blue\")"
   ]
  },
  {
   "cell_type": "markdown",
   "metadata": {},
   "source": [
    "## 学習可能パラメータの表示"
   ]
  },
  {
   "cell_type": "code",
   "execution_count": 11,
   "metadata": {},
   "outputs": [
    {
     "name": "stdout",
     "output_type": "stream",
     "text": [
      "model.beta =  Parameter containing:\n",
      "tensor([ 0.0045,  0.0014,  0.0240,  0.0013,  0.0014,  0.0036,  0.0042,  0.0464,\n",
      "        -0.0101,  0.0008,  0.0008,  0.0005,  0.0004,  0.0005,  0.0007,  0.0009,\n",
      "         0.0015,  0.0026,  0.0047,  0.0095], requires_grad=True)\n",
      "model.lam =  Parameter containing:\n",
      "tensor([0.1259, 0.1237, 0.1381, 0.1384, 0.1463, 0.1343, 0.1202, 0.0857, 0.0894,\n",
      "        0.0961, 0.0952, 0.0937, 0.0911, 0.0859, 0.0803, 0.0772, 0.0750, 0.0753,\n",
      "        0.0772, 0.0841], requires_grad=True)\n"
     ]
    }
   ],
   "source": [
    "print('model.beta = ', model.beta)\n",
    "print('model.lam = ', model.lam)"
   ]
  },
  {
   "cell_type": "code",
   "execution_count": null,
   "metadata": {},
   "outputs": [],
   "source": []
  }
 ],
 "metadata": {
  "kernelspec": {
   "display_name": "Python 3",
   "language": "python",
   "name": "python3"
  },
  "language_info": {
   "codemirror_mode": {
    "name": "ipython",
    "version": 3
   },
   "file_extension": ".py",
   "mimetype": "text/x-python",
   "name": "python",
   "nbconvert_exporter": "python",
   "pygments_lexer": "ipython3",
   "version": "3.6.8"
  }
 },
 "nbformat": 4,
 "nbformat_minor": 4
}
