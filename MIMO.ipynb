{
 "cells": [
  {
   "cell_type": "markdown",
   "metadata": {},
   "source": [
    "# ニューラルネットーワークに基づく(実数)MIMO検出\n",
    "\n",
    "[![Open In Colab](https://colab.research.google.com/assets/colab-badge.svg)](https://colab.research.google.com/github/wadayama/MIKA2019/blob/master/MIMO.ipynb)\n",
    "\n",
    "本ノートブックでは、ニューラルネットワークにより実数体上のMIMO検出問題を行う。概要は次のとおり。\n",
    "* $H \\in \\mathbb{R}^{4 \\times 4}$: 干渉行列 (各要素は平均0, 分散1のガウス分布に従う)\n",
    "* $y = x H + w$: 受信ベクトル(行ベクトル)\n",
    "* 注意: テキストとは異なっており、行と列が入れ替わっている。本ノートの中ではベクトルはデフォルトで行ベクトル\n",
    "* $x \\in \\{+1, -1 \\}^4$\n",
    "* $w \\in \\mathbb{R}^4$: 各要素が平均0、分散$\\sigma^2$のガウス分布に従う乱数ベクトル\n",
    "* 目標は、受信ベクトルである$y$から送信ベクトル$x$を可能な限り正しく推定すること"
   ]
  },
  {
   "cell_type": "markdown",
   "metadata": {},
   "source": [
    "## 必要なパッケージのインポート"
   ]
  },
  {
   "cell_type": "code",
   "execution_count": 15,
   "metadata": {},
   "outputs": [],
   "source": [
    "import torch # テンソル計算など\n",
    "import torch.nn as nn  # ネットワーク構築用\n",
    "import torch.optim as optim  # 最適化関数"
   ]
  },
  {
   "cell_type": "markdown",
   "metadata": {},
   "source": [
    "## グローバル定数の設定"
   ]
  },
  {
   "cell_type": "code",
   "execution_count": 16,
   "metadata": {},
   "outputs": [],
   "source": [
    "mbs = 5 # ミニバッチサイズ\n",
    "noise_std = 0.5 # 通信路において重畳される加法的白色ガウス雑音の標準偏差 (\\sigma)\n",
    "n = 4 # アンテナ数\n",
    "h = 30 # 隠れ層のユニット数\n",
    "H = torch.normal(mean=torch.zeros(n, n), std=1.0) # 干渉行列\n",
    "adam_lr = 0.001 # Adamの学習率"
   ]
  },
  {
   "cell_type": "markdown",
   "metadata": {},
   "source": [
    "## 干渉行列の確認"
   ]
  },
  {
   "cell_type": "code",
   "execution_count": 17,
   "metadata": {},
   "outputs": [
    {
     "name": "stdout",
     "output_type": "stream",
     "text": [
      "tensor([[ 0.1999,  1.0628,  1.0860, -0.3050],\n",
      "        [-0.7999,  0.8779,  1.5390,  1.3950],\n",
      "        [-0.1058, -0.3231, -0.1859,  1.5194],\n",
      "        [-2.5875, -0.4366,  1.6158,  0.1688]])\n"
     ]
    }
   ],
   "source": [
    "print(H)"
   ]
  },
  {
   "cell_type": "markdown",
   "metadata": {},
   "source": [
    "## ネットワークの定義"
   ]
  },
  {
   "cell_type": "code",
   "execution_count": 18,
   "metadata": {},
   "outputs": [],
   "source": [
    "class Net(nn.Module): # nn.Module を継承\n",
    "    def __init__(self): # コンストラクタ\n",
    "        super(Net, self).__init__()\n",
    "        self.detector = nn.Sequential(\n",
    "            nn.Linear(n, h),  # W_1, b_1,\n",
    "            nn.ReLU(), # 活性化関数としてReLUを利用\n",
    "            nn.Linear(h, h), # W_2, b_2\n",
    "            nn.ReLU(),\n",
    "            nn.Linear(h, n)  # W_3, b_3\n",
    "        )\n",
    "    def forward(self, x): # 推論計算をforwardに書く\n",
    "        x = self.detector(x)\n",
    "        x = torch.tanh(x) # x \\in {+1,-1}^4 なので、最終層はtanhを利用\n",
    "        return x"
   ]
  },
  {
   "cell_type": "markdown",
   "metadata": {},
   "source": [
    "## ミニバッチ生成関数"
   ]
  },
  {
   "cell_type": "code",
   "execution_count": 19,
   "metadata": {},
   "outputs": [],
   "source": [
    "def gen_minibatch():\n",
    "    x = 1.0 - 2.0 * torch.randint(0, 2, (mbs, n)) # 送信ベクトル x をランダムに生成\n",
    "    x = x.float()\n",
    "    w = torch.normal(mean=torch.zeros(mbs, n), std = noise_std) # 加法的白色ガウス雑音の生成\n",
    "    y = torch.mm(x, H.t()) + w\n",
    "    return x, y"
   ]
  },
  {
   "cell_type": "markdown",
   "metadata": {},
   "source": [
    "## ミニバッチ生成関数の実行例"
   ]
  },
  {
   "cell_type": "code",
   "execution_count": 20,
   "metadata": {},
   "outputs": [
    {
     "name": "stdout",
     "output_type": "stream",
     "text": [
      "x =  tensor([[-1., -1.,  1., -1.],\n",
      "        [-1., -1.,  1.,  1.],\n",
      "        [-1.,  1., -1., -1.],\n",
      "        [ 1.,  1., -1., -1.],\n",
      "        [-1., -1., -1.,  1.]])\n",
      "y =  tensor([[ 0.8517, -1.1387, -0.1881,  4.1536],\n",
      "        [-0.8340,  2.6852,  0.9230,  5.0991],\n",
      "        [-0.1277, -1.1754, -1.0791,  0.3085],\n",
      "        [ 0.6773, -3.4944, -1.8630, -4.4298],\n",
      "        [-2.5174, -0.0559,  2.1702,  1.4969]])\n"
     ]
    }
   ],
   "source": [
    "x, y = gen_minibatch()\n",
    "print('x = ', x)\n",
    "print('y = ', y)"
   ]
  },
  {
   "cell_type": "markdown",
   "metadata": {},
   "source": [
    "## 訓練ループ"
   ]
  },
  {
   "cell_type": "code",
   "execution_count": 21,
   "metadata": {},
   "outputs": [
    {
     "name": "stdout",
     "output_type": "stream",
     "text": [
      "i = 0 loss = 1.0143934488296509\n",
      "i = 1000 loss = 0.139741450548172\n",
      "i = 2000 loss = 0.004368302412331104\n",
      "i = 3000 loss = 0.08824977278709412\n",
      "i = 4000 loss = 0.2893371284008026\n",
      "i = 5000 loss = 8.92301686690189e-05\n",
      "i = 6000 loss = 0.0006934654666110873\n",
      "i = 7000 loss = 0.46675950288772583\n",
      "i = 8000 loss = 0.0036295230966061354\n",
      "i = 9000 loss = 0.00034848396899178624\n"
     ]
    }
   ],
   "source": [
    "model = Net() # ネットワークインスタンス生成\n",
    "loss_func = nn.MSELoss() # 損失関数の指定(二乗損失関数)\n",
    "optimizer = optim.Adam(model.parameters(), lr=adam_lr) # オプティマイザの指定(Adamを利用)\n",
    "for i in range(10000):\n",
    "    x, y = gen_minibatch() # ミニバッチの生成\n",
    "    optimizer.zero_grad()  # オプティマイザの勾配情報初期化\n",
    "    estimate = model(y)  # 推論計算\n",
    "    loss = loss_func(x, estimate)  # 損失値の計算\n",
    "    loss.backward()  # 誤差逆伝播法(後ろ向き計算の実行)\n",
    "    optimizer.step()  # 学習可能パラメータの更新\n",
    "    if i % 1000 == 0:\n",
    "        print('i =', i, 'loss =', loss.item())"
   ]
  },
  {
   "cell_type": "markdown",
   "metadata": {},
   "source": [
    "## 学習結果の確認"
   ]
  },
  {
   "cell_type": "code",
   "execution_count": 22,
   "metadata": {},
   "outputs": [
    {
     "name": "stdout",
     "output_type": "stream",
     "text": [
      "x =  tensor([[-1., -1., -1., -1.]])\n",
      "y =  tensor([[-1.3920, -1.8827, -0.9315,  1.2803]])\n",
      "x_hat =  tensor([[-0.9977, -0.8377, -0.9680, -0.9975]], grad_fn=<TanhBackward>)\n"
     ]
    }
   ],
   "source": [
    "mbs = 1\n",
    "x, y = gen_minibatch()\n",
    "print('x = ', x)\n",
    "print('y = ', y)\n",
    "x_hat = model(y)\n",
    "print('x_hat = ', x_hat)"
   ]
  },
  {
   "cell_type": "markdown",
   "metadata": {},
   "source": [
    "## ゼロフォーシング等化を試す"
   ]
  },
  {
   "cell_type": "code",
   "execution_count": 23,
   "metadata": {},
   "outputs": [
    {
     "name": "stdout",
     "output_type": "stream",
     "text": [
      "x_hat_zero =  tensor([[-1.9658,  0.9008, -2.0279, -0.8065]])\n"
     ]
    }
   ],
   "source": [
    "Hinv = torch.inverse(H.t())\n",
    "x_hat_zero = torch.mm(y, Hinv)\n",
    "print('x_hat_zero = ', x_hat_zero)"
   ]
  },
  {
   "cell_type": "markdown",
   "metadata": {},
   "source": [
    "## シンボル誤り率を測定する (ニューラル検出器)"
   ]
  },
  {
   "cell_type": "code",
   "execution_count": 24,
   "metadata": {},
   "outputs": [
    {
     "name": "stdout",
     "output_type": "stream",
     "text": [
      "total_syms =  4000\n",
      "error_syms =  134\n",
      "error prob =  0.0335\n"
     ]
    }
   ],
   "source": [
    "total_syms = 0\n",
    "error_syms = 0\n",
    "num_loops  = 1000\n",
    "mbs = 1\n",
    "with torch.no_grad():\n",
    "    for i in range(num_loops):\n",
    "        x, y = gen_minibatch()\n",
    "        x_hat = model(y)\n",
    "        total_syms += n\n",
    "        error_syms += (torch.sign(x_hat) != x).sum().item()\n",
    "print('total_syms = ', total_syms)\n",
    "print('error_syms = ', error_syms)\n",
    "print('error prob = ', error_syms/total_syms)"
   ]
  },
  {
   "cell_type": "markdown",
   "metadata": {},
   "source": [
    "## シンボル誤り率を測定する(ZF検出器)"
   ]
  },
  {
   "cell_type": "code",
   "execution_count": 25,
   "metadata": {},
   "outputs": [
    {
     "name": "stdout",
     "output_type": "stream",
     "text": [
      "total_syms =  4000\n",
      "error_syms =  1174\n",
      "error prob =  0.2935\n"
     ]
    }
   ],
   "source": [
    "total_syms = 0\n",
    "error_syms = 0\n",
    "num_loops  = 1000\n",
    "mbs = 1\n",
    "Hinv = torch.inverse(H.t())\n",
    "for i in range(num_loops):\n",
    "    x, y = gen_minibatch()\n",
    "    x_hat = torch.mm(y, Hinv)\n",
    "    total_syms += n\n",
    "    error_syms += (torch.sign(x_hat) != x).sum().item()\n",
    "print('total_syms = ', total_syms)\n",
    "print('error_syms = ', error_syms)\n",
    "print('error prob = ', error_syms/total_syms)"
   ]
  }
 ],
 "metadata": {
  "kernelspec": {
   "display_name": "Python 3",
   "language": "python",
   "name": "python3"
  },
  "language_info": {
   "codemirror_mode": {
    "name": "ipython",
    "version": 3
   },
   "file_extension": ".py",
   "mimetype": "text/x-python",
   "name": "python",
   "nbconvert_exporter": "python",
   "pygments_lexer": "ipython3",
   "version": "3.7.3"
  }
 },
 "nbformat": 4,
 "nbformat_minor": 2
}
