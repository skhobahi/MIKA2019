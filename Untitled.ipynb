{
 "cells": [
  {
   "cell_type": "code",
   "execution_count": 1,
   "metadata": {},
   "outputs": [],
   "source": [
    "import torch"
   ]
  },
  {
   "cell_type": "code",
   "execution_count": 11,
   "metadata": {},
   "outputs": [],
   "source": [
    "a = torch.rand(4,4,2)"
   ]
  },
  {
   "cell_type": "code",
   "execution_count": 12,
   "metadata": {},
   "outputs": [
    {
     "name": "stdout",
     "output_type": "stream",
     "text": [
      "tensor([[[0.5769, 0.5362],\n",
      "         [0.8414, 0.4279],\n",
      "         [0.8880, 0.5658],\n",
      "         [0.8162, 0.2248]],\n",
      "\n",
      "        [[0.6750, 0.4645],\n",
      "         [0.0732, 0.6661],\n",
      "         [0.5254, 0.1084],\n",
      "         [0.5645, 0.9585]],\n",
      "\n",
      "        [[0.6137, 0.9156],\n",
      "         [0.9307, 0.2599],\n",
      "         [0.1089, 0.6682],\n",
      "         [0.6028, 0.6935]],\n",
      "\n",
      "        [[0.6882, 0.4169],\n",
      "         [0.9927, 0.8393],\n",
      "         [0.3804, 0.9398],\n",
      "         [0.4895, 0.9087]]])\n"
     ]
    }
   ],
   "source": [
    "print(a)"
   ]
  },
  {
   "cell_type": "code",
   "execution_count": 13,
   "metadata": {},
   "outputs": [
    {
     "data": {
      "text/plain": [
       "tensor([[[1.1537, 1.0724],\n",
       "         [1.6829, 0.8557],\n",
       "         [1.7760, 1.1316],\n",
       "         [1.6325, 0.4495]],\n",
       "\n",
       "        [[1.3499, 0.9290],\n",
       "         [0.1464, 1.3322],\n",
       "         [1.0508, 0.2169],\n",
       "         [1.1290, 1.9170]],\n",
       "\n",
       "        [[1.2274, 1.8311],\n",
       "         [1.8615, 0.5198],\n",
       "         [0.2179, 1.3365],\n",
       "         [1.2055, 1.3869]],\n",
       "\n",
       "        [[1.3765, 0.8338],\n",
       "         [1.9853, 1.6786],\n",
       "         [0.7609, 1.8796],\n",
       "         [0.9790, 1.8175]]])"
      ]
     },
     "execution_count": 13,
     "metadata": {},
     "output_type": "execute_result"
    }
   ],
   "source": [
    "2 * a"
   ]
  },
  {
   "cell_type": "code",
   "execution_count": 14,
   "metadata": {},
   "outputs": [
    {
     "data": {
      "text/plain": [
       "tensor([[[0.5454, 0.5109],\n",
       "         [0.7456, 0.4149],\n",
       "         [0.7758, 0.5361],\n",
       "         [0.7286, 0.2229]],\n",
       "\n",
       "        [[0.6249, 0.4480],\n",
       "         [0.0731, 0.6179],\n",
       "         [0.5015, 0.1082],\n",
       "         [0.5350, 0.8183]],\n",
       "\n",
       "        [[0.5759, 0.7929],\n",
       "         [0.8021, 0.2570],\n",
       "         [0.1087, 0.6196],\n",
       "         [0.5669, 0.6392]],\n",
       "\n",
       "        [[0.6352, 0.4049],\n",
       "         [0.8375, 0.7442],\n",
       "         [0.3713, 0.8074],\n",
       "         [0.4702, 0.7887]]])"
      ]
     },
     "execution_count": 14,
     "metadata": {},
     "output_type": "execute_result"
    }
   ],
   "source": [
    "torch.sin(a)"
   ]
  },
  {
   "cell_type": "code",
   "execution_count": null,
   "metadata": {},
   "outputs": [],
   "source": []
  }
 ],
 "metadata": {
  "kernelspec": {
   "display_name": "Python 3",
   "language": "python",
   "name": "python3"
  },
  "language_info": {
   "codemirror_mode": {
    "name": "ipython",
    "version": 3
   },
   "file_extension": ".py",
   "mimetype": "text/x-python",
   "name": "python",
   "nbconvert_exporter": "python",
   "pygments_lexer": "ipython3",
   "version": "3.7.3"
  }
 },
 "nbformat": 4,
 "nbformat_minor": 2
}
