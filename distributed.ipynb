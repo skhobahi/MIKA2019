{
 "cells": [
  {
   "cell_type": "markdown",
   "metadata": {},
   "source": [
    "# 分散学習のエミュレーション\n",
    "\n",
    "[![Open In Colab](https://colab.research.google.com/assets/colab-badge.svg)](https://colab.research.google.com/github/wadayama/MIKA2019/blob/master/distributed.ipynb)\n",
    "\n",
    "MIMO.ipynbの学習問題を分散的に学習を行う。\n",
    "\n",
    "* マスタと複数のワーカが協調して学習を行う\n",
    "* ワーカはローカルデータセットで学習プロセスを実行し、更新されたパラメータをマスタに送る\n",
    "* マスタではワーカから送られたパラメータの平均を計算し、その結果を各ワーカに配布する\n",
    "* このプログラムで本当の分散計算をしているのではありません。分散計算をエミュレートしています。"
   ]
  },
  {
   "cell_type": "markdown",
   "metadata": {},
   "source": [
    "## 必要なパッケージのインポート"
   ]
  },
  {
   "cell_type": "code",
   "execution_count": 1,
   "metadata": {},
   "outputs": [],
   "source": [
    "import torch # テンソル計算など\n",
    "import torch.nn as nn  # ネットワーク構築用\n",
    "import torch.optim as optim  # 最適化関数\n",
    "import matplotlib.pyplot as plt"
   ]
  },
  {
   "cell_type": "markdown",
   "metadata": {},
   "source": [
    "## グローバル定数の設定"
   ]
  },
  {
   "cell_type": "code",
   "execution_count": 2,
   "metadata": {},
   "outputs": [],
   "source": [
    "mbs = 500 # ミニバッチサイズ\n",
    "noise_std = 0.5 # 通信路において重畳される加法的白色ガウス雑音の標準偏差 (\\sigma)\n",
    "n = 4 # アンテナ数\n",
    "h = 30 # 隠れ層のユニット数\n",
    "H = torch.normal(mean=torch.zeros(n, n), std=1.0) # 干渉行列\n",
    "sgd_lr = 0.5 # SGDの学習率"
   ]
  },
  {
   "cell_type": "markdown",
   "metadata": {},
   "source": [
    "## ネットワークの定義"
   ]
  },
  {
   "cell_type": "code",
   "execution_count": 3,
   "metadata": {},
   "outputs": [],
   "source": [
    "class Net(nn.Module): # nn.Module を継承\n",
    "    def __init__(self): # コンストラクタ\n",
    "        super(Net, self).__init__()\n",
    "        self.detector = nn.Sequential(\n",
    "            nn.Linear(n, h),  # W_1, b_1,\n",
    "            nn.ReLU(), # 活性化関数としてReLUを利用\n",
    "            nn.Linear(h, h), # W_2, b_2\n",
    "            nn.ReLU(),\n",
    "            nn.Linear(h, n)  # W_3, b_3\n",
    "        )\n",
    "    def forward(self, x): # 推論計算をforwardに書く\n",
    "        x = self.detector(x)\n",
    "        x = torch.tanh(x) # x \\in {+1,-1}^4 なので、最終層はtanhを利用\n",
    "        return x"
   ]
  },
  {
   "cell_type": "markdown",
   "metadata": {},
   "source": [
    "## ミニバッチ生成関数"
   ]
  },
  {
   "cell_type": "code",
   "execution_count": 4,
   "metadata": {},
   "outputs": [],
   "source": [
    "def gen_minibatch():\n",
    "    x = 1.0 - 2.0 * torch.randint(0, 2, (mbs, n)) # 送信ベクトル x をランダムに生成\n",
    "    x = x.float()\n",
    "    w = torch.normal(mean=torch.zeros(mbs, n), std = noise_std) # 加法的白色ガウス雑音の生成\n",
    "    y = torch.mm(x, H.t()) + w\n",
    "    return x, y"
   ]
  },
  {
   "cell_type": "markdown",
   "metadata": {},
   "source": [
    "## ワーカ訓練用の関数"
   ]
  },
  {
   "cell_type": "code",
   "execution_count": 5,
   "metadata": {},
   "outputs": [],
   "source": [
    "loss_func = nn.MSELoss() # 損失関数の指定(二乗損失関数)\n",
    "def train(id):\n",
    "    for i in range(num_itr):\n",
    "        x, y = gen_minibatch() # ミニバッチの生成\n",
    "        worker[id].zero_grad()  # オプティマイザの勾配情報初期化\n",
    "        estimate = worker[id](y)  # 推論計算\n",
    "        loss = loss_func(x, estimate)  # 損失値の計算\n",
    "        loss.backward()  # 誤差逆伝播法(後ろ向き計算の実行)\n",
    "        for param in worker[id].parameters(): # 学習可能パラメータの更新(オプティマイザを利用しない場合)\n",
    "            param.data -= sgd_lr * param.grad.data"
   ]
  },
  {
   "cell_type": "markdown",
   "metadata": {},
   "source": [
    "## マスタにおいてワーカのパラメータの平均とる"
   ]
  },
  {
   "cell_type": "code",
   "execution_count": 6,
   "metadata": {},
   "outputs": [],
   "source": [
    "def aggregate_and_average(): \n",
    "    global d_index\n",
    "    for i in range(num_workers):\n",
    "        if i == 0:\n",
    "            sum_vec = torch.nn.utils.parameters_to_vector(worker[0].parameters())\n",
    "        else:\n",
    "            sum_vec += torch.nn.utils.parameters_to_vector(worker[i].parameters())\n",
    "    nn.utils.vector_to_parameters(sum_vec / num_workers, master.parameters())\n",
    "    # 損失値の評価\n",
    "    x, y = gen_minibatch() # ミニバッチの生成\n",
    "    estimate = master(y)  # 推論計算\n",
    "    loss = loss_func(x, estimate)  # 損失値の計算\n",
    "    d_index += num_itr\n",
    "    d_index_list.append(d_index)\n",
    "    d_loss_list.append(loss.item())\n",
    "    if d_index % 100 == 0:\n",
    "        print(d_index, loss.item())"
   ]
  },
  {
   "cell_type": "markdown",
   "metadata": {},
   "source": [
    "## マスタのパラメータをワーカに分配する"
   ]
  },
  {
   "cell_type": "code",
   "execution_count": 7,
   "metadata": {},
   "outputs": [],
   "source": [
    "def distribute_parameters():\n",
    "    master_param_vec = nn.utils.parameters_to_vector(master.parameters())\n",
    "    for i in range(num_workers):\n",
    "        nn.utils.vector_to_parameters(master_param_vec, worker[i].parameters())"
   ]
  },
  {
   "cell_type": "markdown",
   "metadata": {},
   "source": [
    "## 分散トレーニングのループ\n",
    "* 各ワーカでの計算は並列に行われていると仮定して、反復ステップ(d_index)を計算しています。\n",
    "* パラメータの送受にかかる時間は0と仮定しています。"
   ]
  },
  {
   "cell_type": "code",
   "execution_count": 8,
   "metadata": {},
   "outputs": [
    {
     "name": "stdout",
     "output_type": "stream",
     "text": [
      "100 0.09879548102617264\n",
      "200 0.10629915446043015\n",
      "300 0.06760198622941971\n",
      "400 0.07789934426546097\n",
      "500 0.05392302945256233\n",
      "600 0.05654444918036461\n",
      "700 0.05984576791524887\n",
      "800 0.06229083985090256\n",
      "900 0.058557283133268356\n",
      "1000 0.037922658026218414\n",
      "100 0.06007644906640053\n",
      "200 0.060099050402641296\n",
      "300 0.07041825354099274\n",
      "400 0.04144278168678284\n",
      "500 0.04403972625732422\n",
      "600 0.045493025332689285\n",
      "700 0.040573734790086746\n",
      "800 0.055083174258470535\n",
      "900 0.06534223258495331\n",
      "1000 0.037099409848451614\n"
     ]
    },
    {
     "data": {
      "text/plain": [
       "<matplotlib.legend.Legend at 0x11f61cf98>"
      ]
     },
     "execution_count": 8,
     "metadata": {},
     "output_type": "execute_result"
    },
    {
     "data": {
      "image/png": "[encoded data removed]",
      "text/plain": [
       "<Figure size 432x288 with 1 Axes>"
      ]
     },
     "metadata": {
      "needs_background": "light"
     },
     "output_type": "display_data"
    }
   ],
   "source": [
    "num_itr = 10\n",
    "\n",
    "#### num_workers = 1\n",
    "num_workers = 1\n",
    " \n",
    "d_index_list = []\n",
    "d_loss_list = []\n",
    "d_index = 0\n",
    "\n",
    "# ワーカとマスタのインスタンスを作成\n",
    "worker = [0] * num_workers\n",
    "for i in range(num_workers):\n",
    "    worker[i] = Net()      \n",
    "master = Net()\n",
    "\n",
    "#分散トレーニングループ\n",
    "for loop in range(1000//num_itr):\n",
    "    for i in range(num_workers):\n",
    "        train(i) # 各ワーカのトレーニングを行う\n",
    "    aggregate_and_average() # マスタにパラメータを集約・平均\n",
    "    distribute_parameters() # 各ワーカにパラメータを分配\n",
    "\n",
    "# 損失関数値の表示    \n",
    "plt.grid()\n",
    "plt.yscale('log')\n",
    "plt.plot(d_index_list, d_loss_list, color=\"blue\", label='num_workers = 1')\n",
    "\n",
    "\n",
    "#### num_workers = 5\n",
    "num_workers = 5\n",
    " \n",
    "d_index_list = []\n",
    "d_loss_list = []\n",
    "d_index = 0\n",
    "\n",
    "# ワーカとマスタのインスタンスを作成\n",
    "worker = [0] * num_workers\n",
    "for i in range(num_workers):\n",
    "    worker[i] = Net()      \n",
    "master = Net()\n",
    "\n",
    "#分散トレーニングループ\n",
    "for loop in range(1000//num_itr):\n",
    "    for i in range(num_workers):\n",
    "        train(i) # 各ワーカのトレーニングを行う\n",
    "    aggregate_and_average() # マスタにパラメータを集約・平均\n",
    "    distribute_parameters() # 各ワーカにパラメータを分配\n",
    "\n",
    "# 損失関数値の表示    \n",
    "plt.grid()\n",
    "plt.yscale('log')\n",
    "plt.plot(d_index_list, d_loss_list, color=\"red\", label='num_workers = 5')\n",
    "plt.grid()\n",
    "plt.legend()"
   ]
  }
 ],
 "metadata": {
  "kernelspec": {
   "display_name": "Python 3",
   "language": "python",
   "name": "python3"
  },
  "language_info": {
   "codemirror_mode": {
    "name": "ipython",
    "version": 3
   },
   "file_extension": ".py",
   "mimetype": "text/x-python",
   "name": "python",
   "nbconvert_exporter": "python",
   "pygments_lexer": "ipython3",
   "version": "3.6.8"
  }
 },
 "nbformat": 4,
 "nbformat_minor": 4
}
