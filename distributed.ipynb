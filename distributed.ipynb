{
 "cells": [
  {
   "cell_type": "markdown",
   "metadata": {},
   "source": [
    "# 分散学習の例\n",
    "\n",
    "[![Open In Colab](https://colab.research.google.com/assets/colab-badge.svg)](https://colab.research.google.com/github/wadayama/MIKA2019/blob/master/distributed.ipynb)\n",
    "\n",
    "MIMO.ipynbの学習問題を分散的に学習を行う。\n",
    "\n",
    "* マスタと複数のワーカが協調して学習を行う\n",
    "* ワーカはローカルデータセットで学習プロセスを実行し、更新されたパラメータをマスタに送る\n",
    "* マスタではワーカから送られたパラメータの平均を計算し、その結果を各ワーカに配布する\n",
    "* このプログラムで本当の分散計算をしているのではありません。分散計算をエミュレートしています。"
   ]
  },
  {
   "cell_type": "markdown",
   "metadata": {},
   "source": [
    "## 必要なパッケージのインポート"
   ]
  },
  {
   "cell_type": "code",
   "execution_count": 1,
   "metadata": {},
   "outputs": [],
   "source": [
    "import torch # テンソル計算など\n",
    "import torch.nn as nn  # ネットワーク構築用\n",
    "import torch.optim as optim  # 最適化関数\n",
    "import matplotlib.pyplot as plt"
   ]
  },
  {
   "cell_type": "markdown",
   "metadata": {},
   "source": [
    "## グローバル定数の設定"
   ]
  },
  {
   "cell_type": "code",
   "execution_count": 2,
   "metadata": {},
   "outputs": [],
   "source": [
    "mbs = 500 # ミニバッチサイズ\n",
    "noise_std = 0.5 # 通信路において重畳される加法的白色ガウス雑音の標準偏差 (\\sigma)\n",
    "n = 4 # アンテナ数\n",
    "h = 30 # 隠れ層のユニット数\n",
    "H = torch.normal(mean=torch.zeros(n, n), std=1.0) # 干渉行列\n",
    "\n",
    "num_itr = 50 # ワーカ学習の反復回数\n",
    "num_workers = 5 # ワーカ数\n",
    "learning_rate = 0.5 # SGDの学習率"
   ]
  },
  {
   "cell_type": "markdown",
   "metadata": {},
   "source": [
    "## ネットワークの定義"
   ]
  },
  {
   "cell_type": "code",
   "execution_count": 3,
   "metadata": {},
   "outputs": [],
   "source": [
    "class Net(nn.Module): # nn.Module を継承\n",
    "    def __init__(self): # コンストラクタ\n",
    "        super(Net, self).__init__()\n",
    "        self.detector = nn.Sequential(\n",
    "            nn.Linear(n, h),  # W_1, b_1,\n",
    "            nn.ReLU(), # 活性化関数としてReLUを利用\n",
    "            nn.Linear(h, h), # W_2, b_2\n",
    "            nn.ReLU(),\n",
    "            nn.Linear(h, n)  # W_3, b_3\n",
    "        )\n",
    "    def forward(self, x): # 推論計算をforwardに書く\n",
    "        x = self.detector(x)\n",
    "        x = torch.tanh(x) # x \\in {+1,-1}^4 なので、最終層はtanhを利用\n",
    "        return x"
   ]
  },
  {
   "cell_type": "markdown",
   "metadata": {},
   "source": [
    "## ミニバッチ生成関数"
   ]
  },
  {
   "cell_type": "code",
   "execution_count": 4,
   "metadata": {},
   "outputs": [],
   "source": [
    "def gen_minibatch():\n",
    "    x = 1.0 - 2.0 * torch.randint(0, 2, (mbs, n)) # 送信ベクトル x をランダムに生成\n",
    "    x = x.float()\n",
    "    w = torch.normal(mean=torch.zeros(mbs, n), std = noise_std) # 加法的白色ガウス雑音の生成\n",
    "    y = torch.mm(x, H.t()) + w\n",
    "    return x, y"
   ]
  },
  {
   "cell_type": "markdown",
   "metadata": {},
   "source": [
    "## ワーカ訓練用の関数"
   ]
  },
  {
   "cell_type": "code",
   "execution_count": 5,
   "metadata": {},
   "outputs": [],
   "source": [
    "def train(m):\n",
    "    loss_func = nn.MSELoss() # 損失関数の指定(二乗損失関数)\n",
    "    for i in range(num_itr):\n",
    "        x, y = gen_minibatch() # ミニバッチの生成\n",
    "        m.zero_grad()  # 勾配情報初期化\n",
    "        estimate = m(y)  # 推論計算\n",
    "        loss = loss_func(x, estimate)  # 損失値の計算\n",
    "        loss.backward()  # 誤差逆伝播法(後ろ向き計算の実行)\n",
    "        for param in m.parameters(): # 学習可能パラメータの更新(オプティマイザを利用しない場合)\n",
    "            param.data -= learning_rate * param.grad.data"
   ]
  },
  {
   "cell_type": "markdown",
   "metadata": {},
   "source": [
    "## マスタにおいてワーカのパラメータの平均とる"
   ]
  },
  {
   "cell_type": "code",
   "execution_count": 6,
   "metadata": {},
   "outputs": [],
   "source": [
    "def aggregate_and_average(): \n",
    "    global d_index\n",
    "    loss_func = nn.MSELoss() # 損失関数の指定(二乗損失関数)\n",
    "    for param in master.state_dict():\n",
    "        for i in range(num_workers):\n",
    "            if i == 0:\n",
    "                master.state_dict()[param].data.copy_(worker[i].state_dict()[param].data)\n",
    "            else:\n",
    "                master.state_dict()[param].data.add_(worker[i].state_dict()[param].data)\n",
    "        master.state_dict()[param].data.div_(num_workers)\n",
    "# 損失値の評価\n",
    "    x, y = gen_minibatch() # ミニバッチの生成\n",
    "    estimate = master(y)  # 推論計算\n",
    "    loss = loss_func(x, estimate)  # 損失値の計算\n",
    "    d_index += num_itr\n",
    "    d_index_list.append(d_index)\n",
    "    d_loss_list.append(loss.item())\n",
    "    if d_index % 100 == 0:\n",
    "        print(d_index, loss.item())"
   ]
  },
  {
   "cell_type": "markdown",
   "metadata": {},
   "source": [
    "## マスタのパラメータをワーカに分配する"
   ]
  },
  {
   "cell_type": "code",
   "execution_count": 7,
   "metadata": {},
   "outputs": [],
   "source": [
    "def distribute_parameters():\n",
    "    for param in master.state_dict():\n",
    "        for i in range(num_workers):\n",
    "            worker[i].state_dict()[param].data.copy_(master.state_dict()[param].data)"
   ]
  },
  {
   "cell_type": "markdown",
   "metadata": {},
   "source": [
    "## 分散トレーニングのループ"
   ]
  },
  {
   "cell_type": "code",
   "execution_count": 10,
   "metadata": {},
   "outputs": [
    {
     "name": "stdout",
     "output_type": "stream",
     "text": [
      "100 0.18900512158870697\n",
      "200 0.03487681970000267\n",
      "300 0.02334064617753029\n",
      "400 0.02495654858648777\n",
      "500 0.020054200664162636\n",
      "600 0.01528934109956026\n",
      "700 0.021079687401652336\n",
      "800 0.01934586651623249\n",
      "900 0.02126939594745636\n",
      "1000 0.013366471976041794\n",
      "1100 0.015264349989593029\n",
      "1200 0.019147740676999092\n",
      "1300 0.01446758583188057\n",
      "1400 0.018892871215939522\n",
      "1500 0.012139953672885895\n",
      "1600 0.02175152860581875\n",
      "1700 0.008533338084816933\n",
      "1800 0.009092886000871658\n",
      "1900 0.020732877776026726\n",
      "2000 0.009205487556755543\n",
      "2100 0.024665592238307\n",
      "2200 0.008186074905097485\n",
      "2300 0.020183758810162544\n",
      "2400 0.024968944489955902\n",
      "2500 0.007615556009113789\n",
      "2600 0.011291657574474812\n",
      "2700 0.009010241366922855\n",
      "2800 0.014960275031626225\n",
      "2900 0.0130761144682765\n",
      "3000 0.00763093912974\n",
      "3100 0.008780237287282944\n",
      "3200 0.01364700123667717\n",
      "3300 0.01786290481686592\n",
      "3400 0.010364118963479996\n",
      "3500 0.012536059133708477\n",
      "3600 0.013306459411978722\n",
      "3700 0.007966079749166965\n",
      "3800 0.01868058554828167\n",
      "3900 0.009522399865090847\n",
      "4000 0.009595290757715702\n",
      "4100 0.011607317253947258\n",
      "4200 0.012210755608975887\n",
      "4300 0.008476554416120052\n",
      "4400 0.010964754037559032\n",
      "4500 0.014066101051867008\n",
      "4600 0.017301946878433228\n",
      "4700 0.014079159125685692\n",
      "4800 0.007349834777414799\n",
      "4900 0.009258299134671688\n",
      "5000 0.01311107724905014\n"
     ]
    }
   ],
   "source": [
    "d_index_list = []\n",
    "d_loss_list = []\n",
    "d_index = 0\n",
    "\n",
    "# ワーカとマスタのインスタンスを作成\n",
    "worker = [0] * num_workers\n",
    "for i in range(num_workers):\n",
    "    worker[i] = Net()      \n",
    "master = Net()\n",
    "\n",
    "#分散トレーニングループ\n",
    "for loop in range(5000//num_itr):\n",
    "    for i in range(num_workers):\n",
    "        train(worker[i]) # 各ワーカのトレーニングを行う\n",
    "    aggregate_and_average() # マスタにパラメータを集約・平均\n",
    "    distribute_parameters() # 各ワーカにパラメータを分配"
   ]
  },
  {
   "cell_type": "markdown",
   "metadata": {},
   "source": [
    "## 損失関数値のプロット"
   ]
  },
  {
   "cell_type": "code",
   "execution_count": 11,
   "metadata": {},
   "outputs": [
    {
     "data": {
      "text/plain": [
       "[<matplotlib.lines.Line2D at 0x12198a780>]"
      ]
     },
     "execution_count": 11,
     "metadata": {},
     "output_type": "execute_result"
    },
    {
     "data": {
      "image/png": "[encoded data removed]",
      "text/plain": [
       "<Figure size 432x288 with 1 Axes>"
      ]
     },
     "metadata": {
      "needs_background": "light"
     },
     "output_type": "display_data"
    }
   ],
   "source": [
    "plt.grid()\n",
    "plt.yscale('log')\n",
    "plt.plot(d_index_list, d_loss_list, color=\"red\")"
   ]
  }
 ],
 "metadata": {
  "kernelspec": {
   "display_name": "Python 3",
   "language": "python",
   "name": "python3"
  },
  "language_info": {
   "codemirror_mode": {
    "name": "ipython",
    "version": 3
   },
   "file_extension": ".py",
   "mimetype": "text/x-python",
   "name": "python",
   "nbconvert_exporter": "python",
   "pygments_lexer": "ipython3",
   "version": "3.7.3"
  }
 },
 "nbformat": 4,
 "nbformat_minor": 2
}
