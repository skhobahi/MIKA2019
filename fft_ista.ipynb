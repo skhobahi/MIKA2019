{
 "cells": [
  {
   "cell_type": "markdown",
   "metadata": {
    "colab_type": "text",
    "id": "1lB_3D9vIidg"
   },
   "source": [
    "# 複素ISTAにFFTを利用する\n",
    "\n",
    "\n",
    "[![Open In Colab](https://colab.research.google.com/assets/colab-badge.svg)](https://colab.research.google.com/github/wadayama/MIKA2019/blob/master/fft_ista.ipynb)\n",
    "\n",
    "* 通信路は複素AWGN通信路\n",
    "* 送信信号は8PSK\n",
    "* 送信側ではIFFTをかける\n",
    "* 信号長は$n$"
   ]
  },
  {
   "cell_type": "markdown",
   "metadata": {
    "colab_type": "text",
    "id": "jCKk0M_mIidl"
   },
   "source": [
    "## ライブラリのインポート"
   ]
  },
  {
   "cell_type": "code",
   "execution_count": 1,
   "metadata": {
    "colab": {},
    "colab_type": "code",
    "id": "8XbFrLTFIidn"
   },
   "outputs": [],
   "source": [
    "import torch\n",
    "import math\n",
    "import torch.nn as nn\n",
    "import torch.optim as optim\n",
    "import matplotlib.pyplot as plt\n",
    "from tqdm import tqdm as tqdm\n",
    "import numpy as np"
   ]
  },
  {
   "cell_type": "markdown",
   "metadata": {
    "colab_type": "text",
    "id": "DIciRwtZIid0"
   },
   "source": [
    "## デバイスの指定\n",
    "\n",
    "* GPUを利用する場合には'cuda'と指定する\n",
    "* CPUを利用する場合には'cpu'と指定する"
   ]
  },
  {
   "cell_type": "code",
   "execution_count": 2,
   "metadata": {
    "colab": {},
    "colab_type": "code",
    "id": "JEfDvIEkIid5"
   },
   "outputs": [],
   "source": [
    "device = torch.device('cpu') # 'cpu' or 'cuda'"
   ]
  },
  {
   "cell_type": "markdown",
   "metadata": {
    "colab_type": "text",
    "id": "PUey5J-QIieB"
   },
   "source": [
    "## 複素ライブラリ\n",
    "\n",
    "* PyTorchで複素数テンソル計算の実行を可能とする"
   ]
  },
  {
   "cell_type": "code",
   "execution_count": 3,
   "metadata": {
    "colab": {},
    "colab_type": "code",
    "id": "L-0iy-G3IieC"
   },
   "outputs": [],
   "source": [
    "#==================================================================\n",
    "# Elementary functions\n",
    "#==================================================================\n",
    "\n",
    "# tensor addition\n",
    "def c_add(X, Y):\n",
    "    return (X[0] + Y[0], X[1] + Y[1])\n",
    "\n",
    "# tensor subtraction (X - Y)\n",
    "def c_sub(X, Y):\n",
    "    return (X[0] - Y[0], X[1] - Y[1])\n",
    "\n",
    "# Hermitian transpose\n",
    "def c_ht(X):\n",
    "    return (X[0].t(), -X[1].t())\n",
    "\n",
    "# tensor multiplication\n",
    "def c_mm(X, Y):\n",
    "    Z_re = torch.mm(X[0], Y[0]) - torch.mm(X[1], Y[1])\n",
    "    Z_im = torch.mm(X[0], Y[1]) + torch.mm(X[1], Y[0])\n",
    "    return (Z_re, Z_im) \n",
    "\n",
    "# scalar multiplication\n",
    "def c_scalar_mul(a, X):\n",
    "    return (a * X[0], a * X[1])\n",
    "\n",
    "# matrix inverse\n",
    "def c_inverse(X):\n",
    "    X_re = X[0]\n",
    "    X_im = X[1]\n",
    "    X_re_inv = torch.inverse(X_re)\n",
    "    tmp = torch.mm(X_im, X_re_inv)\n",
    "    tmp = torch.mm(tmp, X_im)\n",
    "    Z_re = torch.inverse(X_re + tmp)\n",
    "    tmp = - torch.mm(X_re_inv, X_im)\n",
    "    Z_im = torch.mm(tmp, Z_re)\n",
    "    return (Z_re, Z_im)\n",
    "\n",
    "# random matrix with normal distribution\n",
    "def c_normal(m,n,stdv):\n",
    "    Z_re = torch.normal(torch.zeros(m,n), std = stdv/math.sqrt(2.0)).to(device)\n",
    "    Z_im = torch.normal(torch.zeros(m,n), std = stdv/math.sqrt(2.0)).to(device)\n",
    "    return (Z_re, Z_im)\n",
    "\n",
    "# pseudo inverse (Moore-Penrose)\n",
    "def c_pseudo_inverse(X):\n",
    "    m = X[0].size()[0]\n",
    "    n = X[0].size()[1]\n",
    "    X_ht = c_ht(X)\n",
    "    tmp = c_inverse(c_mm(X_ht, X))\n",
    "    tmp2 = c_inverse(c_mm(X, X_ht))\n",
    "    if n < m:\n",
    "        return c_mm(tmp, X_ht)\n",
    "    else:\n",
    "        return c_mm(X_ht, tmp2)\n",
    "    \n",
    "# Squared error \n",
    "def c_squared_error(X, Y):\n",
    "    Z_re = X[0] - Y[0]\n",
    "    Z_im = X[1] - Y[1]\n",
    "    return ((Z_re**2).sum() + (Z_im**2).sum()).item()\n",
    "\n",
    "# normalize the norm\n",
    "def c_normalize(X):\n",
    "    return (X[0]/torch.sqrt(X[0]**2 + X[1]**2), X[1]/torch.sqrt(X[0]**2 + X[1]**2))\n",
    "\n",
    "# zero tensor\n",
    "def c_zeros(m,n):\n",
    "    return (torch.zeros(m,n).to(device), torch.zeros(m,n).to(device))\n",
    "\n",
    "# L2-norm\n",
    "def c_norm(X):\n",
    "    return torch.sqrt(X[0]**2 + X[1]**2)\n",
    "\n",
    "# hadamard product\n",
    "def c_hadamard_prod(X, Y):\n",
    "    return (X[0]*Y[0]-X[1]*Y[1],X[1]*Y[0]+X[0]*Y[1])\n",
    "\n",
    "# trace\n",
    "def c_trace(X):\n",
    "    return (torch.trace(X[0]),torch.trace(X[1]))\n",
    "\n",
    "# transpose\n",
    "def c_t(X):\n",
    "    return (X[0].t(),X[1].t())\n",
    "\n",
    "# conjugate\n",
    "def c_conj(X):\n",
    "    return (X[0],-X[1])\n",
    "\n",
    "#==================================================================\n",
    "# for DFT matrices\n",
    "#==================================================================\n",
    "\n",
    "# DFT matrix\n",
    "def dft(n):\n",
    "    B_re = torch.zeros(n, n)\n",
    "    B_im = torch.zeros(n, n)\n",
    "    for i in range(n):\n",
    "        for j in range(n):\n",
    "            B_re[i][j] = math.cos(-2.0*math.pi*i*j/n)/math.sqrt(n)\n",
    "            B_im[i][j] = math.sin(-2.0*math.pi*i*j/n)/math.sqrt(n)\n",
    "    return (B_re.to(device), B_im.to(device))\n",
    "\n",
    "# IDFT matrix\n",
    "def idft(n):\n",
    "    B_re = torch.zeros(n, n)\n",
    "    B_im = torch.zeros(n, n)\n",
    "    for i in range(n):\n",
    "        for j in range(n):\n",
    "            B_re[i][j] = math.cos(2.0*math.pi*i*j/n)/math.sqrt(n)\n",
    "            B_im[i][j] = math.sin(2.0*math.pi*i*j/n)/math.sqrt(n)\n",
    "    return (B_re.to(device), B_im.to(device))\n",
    "\n",
    "#==================================================================\n",
    "# for FFT functions \n",
    "#==================================================================\n",
    "\n",
    "# FFT\n",
    "def c_fft(x): # input is assumed to be a tensor of size mbs x n\n",
    "    a = x[0]\n",
    "    b = x[1]\n",
    "    bs = a.size()[0]\n",
    "    nu = a.size()[1]\n",
    "    a2 = a.view(bs, 1, nu)\n",
    "    a3 = torch.transpose(a2, 1, 2)\n",
    "    b2 = b.view(bs, 1, nu)\n",
    "    b3 = torch.transpose(b2, 1, 2).view(bs, nu, 1)\n",
    "    x_in = torch.cat([a3,b3], dim=2)\n",
    "    p = torch.fft(x_in, 1, normalized=True)\n",
    "    out_re = p[:,:,0].view(bs, nu)\n",
    "    out_im = p[:,:,1].view(bs, nu)\n",
    "    return (out_re, out_im)\n",
    "\n",
    "# Inverse FFT\n",
    "def c_ifft(x): # input is assumed to be a tensor of size mbs x n\n",
    "    a = x[0]\n",
    "    b = x[1]\n",
    "    bs = a.size()[0]\n",
    "    nu = a.size()[1]\n",
    "    a2 = a.view(bs, 1, nu)\n",
    "    a3 = torch.transpose(a2, 1, 2)\n",
    "    b2 = b.view(bs, 1, nu)\n",
    "    b3 = torch.transpose(b2, 1, 2).view(bs, nu, 1)\n",
    "    x_in = torch.cat([a3,b3], dim=2)\n",
    "    p = torch.ifft(x_in, 1, normalized=True)\n",
    "    out_re = p[:,:,0].view(bs, nu)\n",
    "    out_im = p[:,:,1].view(bs, nu)\n",
    "    return (out_re, out_im)"
   ]
  },
  {
   "cell_type": "markdown",
   "metadata": {
    "colab_type": "text",
    "id": "TMjuj7m1IieK"
   },
   "source": [
    "## グローバル定数の設定"
   ]
  },
  {
   "cell_type": "code",
   "execution_count": 4,
   "metadata": {
    "colab": {},
    "colab_type": "code",
    "id": "dFXFr9QhIieM"
   },
   "outputs": [],
   "source": [
    "n = 128 # 信号長\n",
    "max_itr = 10 # ISTAの反復回数\n",
    "mbs   = 20 # ミニバッチサイズ"
   ]
  },
  {
   "cell_type": "markdown",
   "metadata": {
    "colab_type": "text",
    "id": "Xd-mzATrIieR"
   },
   "source": [
    "## 信号点配置の定義 (この例では8PSKを仮定)"
   ]
  },
  {
   "cell_type": "code",
   "execution_count": 5,
   "metadata": {
    "colab": {},
    "colab_type": "code",
    "id": "vqKcAY86IieV"
   },
   "outputs": [],
   "source": [
    "# QPSK\n",
    "#M = 4\n",
    "#point = torch.tensor([\n",
    "#    [0.70107, 0.70107],\n",
    "#    [0.70107, -0.70107],\n",
    "#    [-0.70107, 0.70107],\n",
    "#    [-0.70107, -0.70107],\n",
    "#])\n",
    "\n",
    "# 8PSK\n",
    "M = 8 # 信号点数\n",
    "point = torch.tensor([\n",
    "    [1.0, 0.0],\n",
    "    [0.0, 1.0],\n",
    "    [-1.0, 0.0],\n",
    "    [0.0,-1.0],\n",
    "    [0.70107, 0.70107],\n",
    "    [0.70107, -0.70107],\n",
    "    [-0.70107, 0.70107],\n",
    "    [-0.70107, -0.70107],\n",
    "])"
   ]
  },
  {
   "cell_type": "markdown",
   "metadata": {},
   "source": [
    "## ミニバッチ生成関数"
   ]
  },
  {
   "cell_type": "code",
   "execution_count": 6,
   "metadata": {
    "colab": {},
    "colab_type": "code",
    "id": "3IWJwhVlIiec"
   },
   "outputs": [],
   "source": [
    "def gen_minibatch():\n",
    "    re = []\n",
    "    im = []\n",
    "    for i in range(mbs):\n",
    "        rindex = torch.randint(M, (1,n)).view(n)\n",
    "        tmp = torch.index_select(point, 0, rindex)\n",
    "        re.append(tmp[:,0].to(device))\n",
    "        im.append(tmp[:,1].to(device))\n",
    "    return (torch.stack(re), torch.stack(im)) "
   ]
  },
  {
   "cell_type": "markdown",
   "metadata": {
    "colab_type": "text",
    "id": "gD9gvrZ7Iiel"
   },
   "source": [
    "## 学習可能な複素ISTA クラス"
   ]
  },
  {
   "cell_type": "code",
   "execution_count": 7,
   "metadata": {
    "colab": {},
    "colab_type": "code",
    "id": "GrA-aE41Iieq"
   },
   "outputs": [],
   "source": [
    "class C_ISTA(nn.Module):\n",
    "    def __init__(self, max_itr):\n",
    "        super(C_ISTA, self).__init__()\n",
    "        self.beta = nn.Parameter(0.1*torch.ones(max_itr)) # 学習可能ステップサイズ\n",
    "        self.lam = nn.Parameter(0.1*torch.ones(max_itr)) # 収縮関数制御パラメータ\n",
    "    def c_shrinkage(self, x, var_mat):\n",
    "        eps = 1e-10\n",
    "        num_re = torch.zeros(mbs, n).to(device)\n",
    "        num_im = torch.zeros(mbs, n).to(device)\n",
    "        deno   = torch.zeros(mbs, n).to(device) + eps\n",
    "        for i in range(M):\n",
    "            r = (x[0] - point[i][0])**2 + (x[1] - point[i][1])**2\n",
    "            f = torch.exp(-r/var_mat)\n",
    "            num_re += point[i][0] * f\n",
    "            num_im += point[i][1] * f\n",
    "            deno += f\n",
    "        return (num_re/deno, num_im/deno)\n",
    "    def forward(self, y, num_itr):\n",
    "        s = c_zeros(mbs, n) # 初期探索点\n",
    "        for i in range(num_itr):\n",
    "            tmp = c_sub(y, c_ifft(s))\n",
    "            tmp2 = c_scalar_mul(self.beta[i], c_fft(tmp))\n",
    "            r = c_add(s, tmp2)\n",
    "            s = self.c_shrinkage(r, self.lam[i])\n",
    "        return s"
   ]
  },
  {
   "cell_type": "markdown",
   "metadata": {
    "colab_type": "text",
    "id": "RM-pLZYMIie0"
   },
   "source": [
    "## インスタンス作成"
   ]
  },
  {
   "cell_type": "code",
   "execution_count": 8,
   "metadata": {
    "colab": {},
    "colab_type": "code",
    "id": "seQ4pqbIIie2"
   },
   "outputs": [],
   "source": [
    "model = C_ISTA(max_itr).to(device)\n",
    "opt   = optim.Adam(model.parameters(), lr=0.001) \n",
    "loss_func = nn.MSELoss()"
   ]
  },
  {
   "cell_type": "markdown",
   "metadata": {},
   "source": [
    "## 平均エネルギーの測定"
   ]
  },
  {
   "cell_type": "code",
   "execution_count": 9,
   "metadata": {},
   "outputs": [
    {
     "name": "stdout",
     "output_type": "stream",
     "text": [
      "0.9915084052085876\n"
     ]
    }
   ],
   "source": [
    "Es = 0.0\n",
    "for i in range(100):\n",
    "    x = gen_minibatch()\n",
    "    t = c_ifft(x)\n",
    "    Es += ((c_norm(t)**2).sum()/(mbs*n)).detach().cpu().item()\n",
    "Es = Es / 100\n",
    "print(Es)"
   ]
  },
  {
   "cell_type": "markdown",
   "metadata": {},
   "source": [
    "## SN比の設定"
   ]
  },
  {
   "cell_type": "code",
   "execution_count": 10,
   "metadata": {},
   "outputs": [
    {
     "name": "stdout",
     "output_type": "stream",
     "text": [
      "sigma =  0.17707130991948677\n"
     ]
    }
   ],
   "source": [
    "snr = 15.0\n",
    "sigma = math.sqrt(Es * 10.0**(-snr/10.0))\n",
    "print('sigma = ', sigma)"
   ]
  },
  {
   "cell_type": "markdown",
   "metadata": {
    "colab_type": "text",
    "id": "lv9y-DKcIie6"
   },
   "source": [
    "## 訓練ループ"
   ]
  },
  {
   "cell_type": "code",
   "execution_count": null,
   "metadata": {
    "colab": {
     "base_uri": "https://localhost:8080/",
     "height": 3037
    },
    "colab_type": "code",
    "id": "y6AeJiw3Iie8",
    "outputId": "5651290b-e69c-4040-d55c-394b83f2b208"
   },
   "outputs": [
    {
     "name": "stderr",
     "output_type": "stream",
     "text": [
      " 40%|█████████████████████████████████▏                                                 | 4/10 [00:36<00:53,  8.99s/it]"
     ]
    }
   ],
   "source": [
    "for gen in tqdm(range(max_itr)):\n",
    "    for i in range(200):\n",
    "        x = gen_minibatch()\n",
    "        w = c_normal(mbs, n, sigma)\n",
    "        t = c_ifft(x)\n",
    "        y = c_add(t, w)\n",
    "        opt.zero_grad()\n",
    "        x_hat = model(y, gen + 1)\n",
    "        loss  = loss_func(x_hat[0], x[0]) + loss_func(x_hat[1], x[1])\n",
    "        loss.backward()\n",
    "        opt.step()"
   ]
  },
  {
   "cell_type": "markdown",
   "metadata": {
    "colab_type": "text",
    "id": "J8OrAF1MIifa"
   },
   "source": [
    "## 学習可能ISTAの試験再現のための準備"
   ]
  },
  {
   "cell_type": "code",
   "execution_count": null,
   "metadata": {},
   "outputs": [],
   "source": [
    "def gen_word():\n",
    "    rindex = torch.randint(M, (1,n)).view(n)\n",
    "    tmp = torch.index_select(point, 0, rindex)\n",
    "    return rindex, (tmp[:,0].view(1,n).to(device), tmp[:,1].view(1,n).to(device)) \n",
    "mbs = 1\n",
    "rind, x = gen_word()\n",
    "w = c_normal(mbs, n, sigma)\n",
    "t = c_ifft(x)\n",
    "y = c_add(t, w)\n",
    "with torch.no_grad():\n",
    "    s = model(y, max_itr)\n",
    "x_re = x[0][0].cpu().numpy()\n",
    "x_im = x[1][0].cpu().numpy()\n",
    "s_re = s[0][0].cpu().detach().numpy()\n",
    "s_im = s[1][0].cpu().detach().numpy()"
   ]
  },
  {
   "cell_type": "markdown",
   "metadata": {
    "colab_type": "text",
    "id": "7VTDcC32Iif_"
   },
   "source": [
    "## 送信信号と再現信号の実部の表示"
   ]
  },
  {
   "cell_type": "code",
   "execution_count": null,
   "metadata": {
    "colab": {
     "base_uri": "https://localhost:8080/",
     "height": 365
    },
    "colab_type": "code",
    "id": "fvcG80CBIigF",
    "outputId": "ac02904a-4345-4682-8c81-a297f7e8638b"
   },
   "outputs": [],
   "source": [
    "plt.plot(range(n), x_re, color=\"red\")\n",
    "plt.plot(range(n), s_re, color=\"blue\")"
   ]
  },
  {
   "cell_type": "markdown",
   "metadata": {
    "colab_type": "text",
    "id": "P2MxO8FvIigN"
   },
   "source": [
    "## 送信信号と再現信号の虚部の表示"
   ]
  },
  {
   "cell_type": "code",
   "execution_count": null,
   "metadata": {
    "colab": {
     "base_uri": "https://localhost:8080/",
     "height": 365
    },
    "colab_type": "code",
    "id": "J8LJAbEGIigT",
    "outputId": "044217ca-0019-4e8e-e38b-05a12f37a57e"
   },
   "outputs": [],
   "source": [
    "plt.plot(range(n), x_im, color=\"red\")\n",
    "plt.plot(range(n), s_im, color=\"blue\")"
   ]
  },
  {
   "cell_type": "markdown",
   "metadata": {},
   "source": [
    "## ZF推定(FFTの実行による)推定結果の表示 (実部)"
   ]
  },
  {
   "cell_type": "code",
   "execution_count": null,
   "metadata": {},
   "outputs": [],
   "source": [
    "s = c_fft(y)\n",
    "t_re = s[0][0].cpu().detach().numpy()\n",
    "t_im = s[1][0].cpu().detach().numpy()"
   ]
  },
  {
   "cell_type": "code",
   "execution_count": null,
   "metadata": {},
   "outputs": [],
   "source": [
    "plt.plot(range(n), x_re, color=\"red\")\n",
    "plt.plot(range(n), t_re, color=\"blue\")"
   ]
  },
  {
   "cell_type": "markdown",
   "metadata": {},
   "source": [
    "## ZF推定(FFTの実行による)推定結果の表示 (虚部)"
   ]
  },
  {
   "cell_type": "code",
   "execution_count": null,
   "metadata": {},
   "outputs": [],
   "source": [
    "plt.plot(range(n), x_im, color=\"red\")\n",
    "plt.plot(range(n), t_im, color=\"blue\")"
   ]
  },
  {
   "cell_type": "markdown",
   "metadata": {},
   "source": [
    "## 送信信号の散布図"
   ]
  },
  {
   "cell_type": "code",
   "execution_count": null,
   "metadata": {},
   "outputs": [],
   "source": [
    "plt.grid()\n",
    "plt.scatter(x_re, x_im, color=\"red\")"
   ]
  },
  {
   "cell_type": "markdown",
   "metadata": {},
   "source": [
    "## 学習可能ISTAによる推定信号の散布図"
   ]
  },
  {
   "cell_type": "code",
   "execution_count": null,
   "metadata": {},
   "outputs": [],
   "source": [
    "plt.grid()\n",
    "plt.scatter(s_re, s_im, color=\"blue\")"
   ]
  },
  {
   "cell_type": "markdown",
   "metadata": {},
   "source": [
    "## FFT(ZF)推定による推定信号の散布図"
   ]
  },
  {
   "cell_type": "code",
   "execution_count": null,
   "metadata": {},
   "outputs": [],
   "source": [
    "plt.grid()\n",
    "plt.scatter(t_re, t_im, color=\"blue\")"
   ]
  }
 ],
 "metadata": {
  "accelerator": "GPU",
  "colab": {
   "collapsed_sections": [],
   "name": "complex_isita-discrete_test.ipynb",
   "provenance": [],
   "version": "0.3.2"
  },
  "kernelspec": {
   "display_name": "Python 3",
   "language": "python",
   "name": "python3"
  },
  "language_info": {
   "codemirror_mode": {
    "name": "ipython",
    "version": 3
   },
   "file_extension": ".py",
   "mimetype": "text/x-python",
   "name": "python",
   "nbconvert_exporter": "python",
   "pygments_lexer": "ipython3",
   "version": "3.6.6"
  }
 },
 "nbformat": 4,
 "nbformat_minor": 4
}
