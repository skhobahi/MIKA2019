{
 "cells": [
  {
   "cell_type": "markdown",
   "metadata": {},
   "source": [
    "# Noisy GDBFアルゴリズムの実装例\n",
    "\n",
    "* Noisy GDBFアルゴリズムは優れたビットフリップ型復号法です。詳細は下記の論文を参照してください。\n",
    "https://ieeexplore.ieee.org/document/6894606\n",
    "\n",
    "* ldpclib には、疎行列（検査行列）の読み込み、生成行列の生成が可能です。これらの関数は、名工大修了生の福本真也君の作です。\n",
    "* 本プログラムで学習はしていません。"
   ]
  },
  {
   "cell_type": "markdown",
   "metadata": {},
   "source": [
    "## 必要なパッケージをインポートする"
   ]
  },
  {
   "cell_type": "code",
   "execution_count": 29,
   "metadata": {},
   "outputs": [],
   "source": [
    "import numpy as np\n",
    "import torch\n",
    "import torch.nn as nn\n",
    "import math\n",
    "import time\n",
    "import ldpclib as l"
   ]
  },
  {
   "cell_type": "markdown",
   "metadata": {},
   "source": [
    "## デバイスの指定"
   ]
  },
  {
   "cell_type": "code",
   "execution_count": 30,
   "metadata": {},
   "outputs": [],
   "source": [
    "device = torch.device('cuda') # specify 'cpu' or 'cuda'"
   ]
  },
  {
   "cell_type": "markdown",
   "metadata": {},
   "source": [
    "## グローバル定数の設定"
   ]
  },
  {
   "cell_type": "code",
   "execution_count": 28,
   "metadata": {},
   "outputs": [],
   "source": [
    "filename = 'PEGReg504x1008.dec' # spmat 形式(alist形式と少しだけ違う)\n",
    "H_spmat = l.read_spmat(filename)\n",
    "H = H_spmat.to_ndarray() # 検査行列\n",
    "G = l.to_generator_matrix(H) # 生成行列\n",
    "(np.matmul(G, H.T) % 2 == 0).all() # check if G H^T = 0 or not\n",
    "n = H.shape[1] # 符号長\n",
    "m = H.shape[0] # 冗長\n",
    "k = G.shape[0] # 情報記号長(次元)\n",
    "dtype = torch.float\n",
    "H = torch.from_numpy(H).float().to(device) # 検査行列\n",
    "G = torch.from_numpy(G).float().to(device) # 生成行列"
   ]
  },
  {
   "cell_type": "code",
   "execution_count": 25,
   "metadata": {},
   "outputs": [],
   "source": [
    "snr        = 4.5 # singal to noise ratio\n",
    "rate       = 1.0 - m/n # coding rate\n",
    "offset_val = 0.4 # noise offset\n",
    "fluc_std   = math.sqrt(0.4)  # standard deviation of noise\n",
    "num_itr    = 20    # number of iterations\n",
    "max_loop   = 1000  # number of simulation loops \n",
    "bs         = 10 # minibatch size"
   ]
  },
  {
   "cell_type": "markdown",
   "metadata": {},
   "source": [
    "## BF関連の関数"
   ]
  },
  {
   "cell_type": "code",
   "execution_count": 23,
   "metadata": {},
   "outputs": [],
   "source": [
    "def bipolar_syndrome(x, H):\n",
    "    return 1.0 - 2.0 * torch.mm(H, 0.5 * (1.0 - x.t())).fmod(2.0).t()\n",
    "def syndrome_sum(s, H):\n",
    "    return torch.mm(s, H)"
   ]
  },
  {
   "cell_type": "markdown",
   "metadata": {},
   "source": [
    "## Noisy GDBF 復号器クラス"
   ]
  },
  {
   "cell_type": "code",
   "execution_count": 26,
   "metadata": {},
   "outputs": [],
   "source": [
    "class GDBF(nn.Module):\n",
    "    def __init__(self, offset_val, fluc_std):\n",
    "        super(GDBF, self).__init__()\n",
    "        self.fluc_std = fluc_std\n",
    "        self.offset   = offset_val * torch.ones(bs, n).to(device)\n",
    "    def forward(self, word, num_itr):        \n",
    "        y = word + torch.normal(torch.zeros(bs, n), noise_std).to(device)\n",
    "        x = torch.sign(y) \n",
    "        for i in range(num_itr):\n",
    "            s = bipolar_syndrome(x, H)\n",
    "            r = x * y + syndrome_sum(s, H)  + self.offset + torch.normal(torch.zeros(1, n), self.fluc_std).to(device)\n",
    "            x =  x * torch.sign(r)\n",
    "        return x"
   ]
  },
  {
   "cell_type": "markdown",
   "metadata": {},
   "source": [
    "## シミュレーションループ"
   ]
  },
  {
   "cell_type": "code",
   "execution_count": 27,
   "metadata": {},
   "outputs": [
    {
     "name": "stdout",
     "output_type": "stream",
     "text": [
      "snr  =  4.5\n",
      "rate =  0.5\n",
      "noise_std =  0.5956621435290105\n",
      "BER      = 6.2183e-04\n",
      "num_bits = 1.0080e+07\n",
      "elapsed_time:14.283835411071777(sec)\n"
     ]
    }
   ],
   "source": [
    "gdbf = GDBF(offset_val, fluc_std).to(device)\n",
    "num_errs = 0\n",
    "num_bits = 0\n",
    "noise_std = math.sqrt((0.5 * pow(10.0, -snr/10.0))/rate)\n",
    "start     = time.time()\n",
    "print('snr  = ', snr)\n",
    "print('rate = ', rate)\n",
    "print('noise_std = ', noise_std)\n",
    "for loop in range(max_loop):\n",
    "    message = torch.bernoulli(0.5 * torch.ones(bs, k)).to(device)\n",
    "    word = 1.0 - 2.0 * torch.mm(message, G).fmod(2.0)\n",
    "    word = word.to(device)\n",
    "    x_hat = gdbf(word, num_itr)\n",
    "    num_errs += (x_hat != word).sum().detach().item()\n",
    "    num_bits += n * bs\n",
    "print('BER      = {:.4e}'.format(num_errs/num_bits))\n",
    "print('num_bits = {:.4e}'.format(1.0*num_bits))\n",
    "elapsed_time = time.time() - start\n",
    "print('elapsed_time:{0}'.format(elapsed_time) + '(sec)')"
   ]
  }
 ],
 "metadata": {
  "kernelspec": {
   "display_name": "Python 3",
   "language": "python",
   "name": "python3"
  },
  "language_info": {
   "codemirror_mode": {
    "name": "ipython",
    "version": 3
   },
   "file_extension": ".py",
   "mimetype": "text/x-python",
   "name": "python",
   "nbconvert_exporter": "python",
   "pygments_lexer": "ipython3",
   "version": "3.6.6"
  }
 },
 "nbformat": 4,
 "nbformat_minor": 4
}
