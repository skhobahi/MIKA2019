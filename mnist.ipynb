{
 "cells": [
  {
   "cell_type": "markdown",
   "metadata": {},
   "source": [
    "# MNIST認識のシンプルなコード"
   ]
  },
  {
   "cell_type": "markdown",
   "metadata": {},
   "source": [
    "## 必要なパッケージをインポート"
   ]
  },
  {
   "cell_type": "code",
   "execution_count": 1,
   "metadata": {},
   "outputs": [],
   "source": [
    "import torch\n",
    "import torch.nn as nn\n",
    "import torchvision.datasets as dset\n",
    "import torchvision.transforms as transforms\n",
    "import torch.nn.functional as F\n",
    "import torch.optim as optim\n",
    "import time"
   ]
  },
  {
   "cell_type": "markdown",
   "metadata": {},
   "source": [
    "## グローバル定数の設定"
   ]
  },
  {
   "cell_type": "code",
   "execution_count": 2,
   "metadata": {},
   "outputs": [],
   "source": [
    "batch_size = 200                # ミニバッチサイズ\n",
    "device = torch.device('cpu')\n",
    "sgd_lr = 0.1"
   ]
  },
  {
   "cell_type": "markdown",
   "metadata": {},
   "source": [
    "## データローダの準備"
   ]
  },
  {
   "cell_type": "code",
   "execution_count": 3,
   "metadata": {},
   "outputs": [],
   "source": [
    "root = '.' # mnistデータの置き場所\n",
    "download = True\n",
    "trans = transforms.Compose([transforms.ToTensor(), transforms.Normalize((0.5,), (1.0,))])\n",
    "train_set = dset.MNIST(root=root, train=True, transform=trans, download=download)\n",
    "test_set = dset.MNIST(root=root, train=False, transform=trans)\n",
    "# ローダの準備\n",
    "train_loader = torch.utils.data.DataLoader(dataset=train_set, batch_size=batch_size, shuffle=True)\n",
    "test_loader = torch.utils.data.DataLoader(dataset=test_set, batch_size=batch_size, shuffle=False)"
   ]
  },
  {
   "cell_type": "markdown",
   "metadata": {},
   "source": [
    "## モデルの定義\n"
   ]
  },
  {
   "cell_type": "code",
   "execution_count": 4,
   "metadata": {},
   "outputs": [],
   "source": [
    "class Net(nn.Module): \n",
    "    def __init__(self):\n",
    "        super(Net, self).__init__() \n",
    "        self.l1 = nn.Linear(784, 784)\n",
    "        self.l2 = nn.Linear(784, 784)\n",
    "        self.l3 = nn.Linear(784, 10)\n",
    "\n",
    "    def forward(self, x):\n",
    "        x = F.relu(self.l1(x))\n",
    "        x = F.relu(self.l2(x))\n",
    "        x = self.l3(x)\n",
    "        return F.log_softmax(x, dim=1)"
   ]
  },
  {
   "cell_type": "markdown",
   "metadata": {},
   "source": [
    "## 訓練ループ"
   ]
  },
  {
   "cell_type": "code",
   "execution_count": 10,
   "metadata": {},
   "outputs": [
    {
     "name": "stdout",
     "output_type": "stream",
     "text": [
      "[  100] loss: 1.428\n",
      "[  200] loss: 0.536\n",
      "[  300] loss: 0.407\n",
      "[  400] loss: 0.346\n",
      "[  500] loss: 0.306\n",
      "[  600] loss: 0.284\n",
      "[  700] loss: 0.259\n",
      "[  800] loss: 0.251\n",
      "[  900] loss: 0.229\n",
      "[ 1000] loss: 0.217\n",
      "[ 1100] loss: 0.195\n",
      "[ 1200] loss: 0.192\n",
      "[ 1300] loss: 0.181\n",
      "[ 1400] loss: 0.161\n",
      "[ 1500] loss: 0.166\n",
      "[ 1600] loss: 0.156\n",
      "[ 1700] loss: 0.143\n",
      "[ 1800] loss: 0.138\n",
      "[ 1900] loss: 0.133\n",
      "[ 2000] loss: 0.130\n",
      "[ 2100] loss: 0.124\n",
      "[ 2200] loss: 0.120\n",
      "[ 2300] loss: 0.113\n",
      "[ 2400] loss: 0.112\n",
      "[ 2500] loss: 0.100\n",
      "[ 2600] loss: 0.102\n",
      "[ 2700] loss: 0.101\n",
      "[ 2800] loss: 0.094\n",
      "[ 2900] loss: 0.091\n",
      "[ 3000] loss: 0.091\n"
     ]
    }
   ],
   "source": [
    "model = Net().to(device)\n",
    "optimizer = optim.SGD(model.parameters(), lr=sgd_lr)\n",
    "running_loss = 0.0\n",
    "i = 0\n",
    "for loop in range(10):\n",
    "    for (input, target) in train_loader:\n",
    "        i = i + 1\n",
    "        input, target = input.to(device), target.to(device)\n",
    "        input = input.view(-1, 28*28) # テンソルのサイズを整える必要がある\n",
    "        optimizer.zero_grad()    # optimizerの初期化\n",
    "        output = model(input)     # 推論計算\n",
    "        loss = F.nll_loss(output, target) # 損失関数の定義\n",
    "        loss.backward()             # バックプロパゲーション\n",
    "        optimizer.step()            # パラメータ更新\n",
    "        running_loss += loss.item()\n",
    "        if i % 100 == 99:    # print every 100 mini-batches\n",
    "            print('[%5d] loss: %.3f' %\n",
    "                  (i + 1, running_loss / 100))\n",
    "            running_loss = 0.0"
   ]
  },
  {
   "cell_type": "markdown",
   "metadata": {},
   "source": [
    "## Accuracyの評価"
   ]
  },
  {
   "cell_type": "code",
   "execution_count": 11,
   "metadata": {},
   "outputs": [
    {
     "name": "stdout",
     "output_type": "stream",
     "text": [
      "accuracy =  0.9703\n"
     ]
    }
   ],
   "source": [
    "correct =  0\n",
    "count = 0\n",
    "for (input, target) in test_loader:\n",
    "    input, target = input.to(device), target.to(device)\n",
    "    input = input.view(-1, 28*28)\n",
    "    output = model(input)     # 推論計算\n",
    "\n",
    "    pred = output.data.max(1)[1]\n",
    "    correct += pred.eq(target.data).sum()\n",
    "    count += batch_size\n",
    "\n",
    "print ('accuracy = ', float(correct)/float(count))"
   ]
  }
 ],
 "metadata": {
  "kernelspec": {
   "display_name": "Python 3",
   "language": "python",
   "name": "python3"
  },
  "language_info": {
   "codemirror_mode": {
    "name": "ipython",
    "version": 3
   },
   "file_extension": ".py",
   "mimetype": "text/x-python",
   "name": "python",
   "nbconvert_exporter": "python",
   "pygments_lexer": "ipython3",
   "version": "3.7.3"
  }
 },
 "nbformat": 4,
 "nbformat_minor": 4
}
