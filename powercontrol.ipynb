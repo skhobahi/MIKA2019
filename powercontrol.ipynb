{
 "cells": [
  {
   "cell_type": "markdown",
   "metadata": {
    "colab_type": "text",
    "id": "aGgDIrKsbLIe"
   },
   "source": [
    "# 幾何プログラミングに基づく最適電力制御を模擬する(最適化模擬)\n",
    "\n",
    "\n",
    "[![Open In Colab](https://colab.research.google.com/assets/colab-badge.svg)](https://colab.research.google.com/github/wadayama/MIKA2019/blob/master/powercontrol.ipynb)"
   ]
  },
  {
   "cell_type": "markdown",
   "metadata": {
    "colab_type": "text",
    "id": "Hk_RJ3CwbjWi"
   },
   "source": [
    "## 必要なパッケージのインストール\n",
    "\n",
    "* 凸最適化(幾何プログラミング)のためにcvxpyを利用します。インストールされていない場合は、\"pip install cvxpy\" としてインストールしてください。"
   ]
  },
  {
   "cell_type": "code",
   "execution_count": 17,
   "metadata": {
    "colab": {},
    "colab_type": "code",
    "id": "f1dOj4obhbmL"
   },
   "outputs": [],
   "source": [
    "import numpy as np\n",
    "import torch\n",
    "import torch.nn as nn  # ネットワーク構築用\n",
    "import torch.optim as optim  # 最適化関数\n",
    "import cvxpy as cp"
   ]
  },
  {
   "cell_type": "markdown",
   "metadata": {
    "colab_type": "text",
    "id": "YhAXT7E1bgLr"
   },
   "source": [
    "## グローバル定数の設定\n",
    "\n",
    "* 電力制御問題の詳細については、テキスト本文を参照してください。\n",
    "* cvxpy のExample: https://www.cvxpy.org/examples/dgp/power_control.html をベースにして本プログラムを作成しています。"
   ]
  },
  {
   "cell_type": "code",
   "execution_count": 18,
   "metadata": {
    "colab": {},
    "colab_type": "code",
    "id": "7uMWqfpXhdQl"
   },
   "outputs": [],
   "source": [
    "# Problem data\n",
    "n = 5                     # number of transmitters and receivers\n",
    "sigma = 0.5 * np.ones(n)  # noise power at the receiver i\n",
    "p_min = 0.1 * np.ones(n)  # minimum power at the transmitter i\n",
    "p_max = 5 * np.ones(n)    # maximum power at the transmitter i\n",
    "sinr_min = 0.1            # threshold SINR for each receiver\n",
    "G = np.array(  # パスゲイン行列\n",
    "      [[1.0, 0.1, 0.2, 0.1, 0.05],\n",
    "        [0.1, 1.0, 0.1, 0.1, 0.05],\n",
    "        [0.2, 0.1, 1.0, 0.2, 0.2],\n",
    "        [0.1, 0.1, 0.2, 1.0, 0.1],\n",
    "        [0.05, 0.05, 0.2, 0.1, 1.0]]) \n",
    "mbs = 5 # ミニバッチサイズ\n",
    "h = 100 # 隠れ層のユニット数\n",
    "adam_lr = 0.01 # Adamの学習率"
   ]
  },
  {
   "cell_type": "markdown",
   "metadata": {
    "colab_type": "text",
    "id": "QE4Dsxb5caxb"
   },
   "source": [
    "## ミニバッチ生成関数\n",
    "\n",
    "* cvxpy を利用して電力制御問題を解く\n",
    "* 入力パラメータは雑音分散\n",
    "* 出力は最適電力配分"
   ]
  },
  {
   "cell_type": "code",
   "execution_count": 19,
   "metadata": {
    "colab": {},
    "colab_type": "code",
    "id": "qhIcyrIzhfor"
   },
   "outputs": [],
   "source": [
    "def gen_minibatch():\n",
    "    sigma = np.random.rand(n)\n",
    "    p = cp.Variable(shape=(n,), pos=True)\n",
    "    objective = cp.Minimize(cp.sum(p))\n",
    "    S_p = []\n",
    "    for i in range(n):\n",
    "        S_p.append(cp.sum(cp.hstack(G[i, k]*p for k in range(n) if i != k)))\n",
    "    S = sigma + cp.hstack(S_p)\n",
    "    signal_power = cp.multiply(cp.diag(G), p)\n",
    "    inverse_sinr = S/signal_power\n",
    "    constraints = [\n",
    "        p >= p_min,\n",
    "        p <= p_max,\n",
    "        inverse_sinr <= (1/sinr_min),\n",
    "    ]\n",
    "    problem = cp.Problem(objective, constraints)\n",
    "    problem.solve(gp=True)\n",
    "    return torch.tensor(sigma).float(),  torch.tensor(p.value).float()"
   ]
  },
  {
   "cell_type": "markdown",
   "metadata": {
    "colab_type": "text",
    "id": "RYu2D1eUcuaQ"
   },
   "source": [
    "## ネットワークモデル"
   ]
  },
  {
   "cell_type": "code",
   "execution_count": 20,
   "metadata": {
    "colab": {},
    "colab_type": "code",
    "id": "DwDtogQIkzll"
   },
   "outputs": [],
   "source": [
    "class Net(nn.Module): # nn.Module を継承\n",
    "    def __init__(self): # コンストラクタ\n",
    "        super(Net, self).__init__()\n",
    "        self.comp = nn.Sequential(\n",
    "            nn.Linear(n, h), \n",
    "            nn.ReLU(), # 活性化関数としてReLUを利用\n",
    "            nn.Linear(h, h), \n",
    "            nn.ReLU(),\n",
    "            nn.Linear(h, n), \n",
    "        )\n",
    "    def forward(self, x): # 推論計算をforwardに書く\n",
    "        x = self.comp(x)\n",
    "        return x"
   ]
  },
  {
   "cell_type": "markdown",
   "metadata": {
    "colab_type": "text",
    "id": "h5wq3l0kcxZ3"
   },
   "source": [
    "## 訓練ループ"
   ]
  },
  {
   "cell_type": "code",
   "execution_count": 21,
   "metadata": {
    "colab": {
     "base_uri": "https://localhost:8080/",
     "height": 357
    },
    "colab_type": "code",
    "id": "gqqTc-5uuWxc",
    "outputId": "ccd6c656-b19a-4364-b0b2-4173c2cb281b"
   },
   "outputs": [
    {
     "name": "stdout",
     "output_type": "stream",
     "text": [
      "i = 0 loss = 0.03914088010787964\n",
      "i = 10 loss = 0.002022175583988428\n",
      "i = 20 loss = 0.0023445826955139637\n",
      "i = 30 loss = 0.0009369359468109906\n",
      "i = 40 loss = 0.0010331157827749848\n",
      "i = 50 loss = 0.0005970211932435632\n",
      "i = 60 loss = 0.00034818227868527174\n",
      "i = 70 loss = 0.0010689791524782777\n",
      "i = 80 loss = 8.485699072480202e-05\n",
      "i = 90 loss = 0.0001275963004445657\n",
      "i = 100 loss = 0.00026759697357192636\n",
      "i = 110 loss = 0.0005719877663068473\n",
      "i = 120 loss = 0.0003433755482546985\n",
      "i = 130 loss = 0.00022983089729677886\n",
      "i = 140 loss = 0.00019253652135375887\n",
      "i = 150 loss = 6.668653077213094e-05\n",
      "i = 160 loss = 0.00038394492003135383\n",
      "i = 170 loss = 8.533739310223609e-05\n",
      "i = 180 loss = 0.00019873229030054063\n",
      "i = 190 loss = 0.00013147920253686607\n"
     ]
    }
   ],
   "source": [
    "model = Net() # ネットワークインスタンス生成\n",
    "loss_func = nn.MSELoss() # 損失関数の指定(二乗損失関数)\n",
    "optimizer = optim.Adam(model.parameters(), lr=adam_lr) # オプティマイザの指定(Adamを利用)\n",
    "for i in range(200):\n",
    "    x, y = gen_minibatch() # ミニバッチの生成\n",
    "    optimizer.zero_grad()  # オプティマイザの勾配情報初期化\n",
    "    estimate = model(x)  # 推論計算\n",
    "    loss = loss_func(y, estimate)  # 損失値の計算\n",
    "    loss.backward()  # 誤差逆伝播法(後ろ向き計算の実行)\n",
    "    optimizer.step()  # 学習可能パラメータの更新\n",
    "    if i % 10 == 0:\n",
    "      print('i =', i, 'loss =', loss.item())"
   ]
  },
  {
   "cell_type": "markdown",
   "metadata": {
    "colab_type": "text",
    "id": "ghhZtclLs4vw"
   },
   "source": [
    "## 学習結果の確認\n"
   ]
  },
  {
   "cell_type": "code",
   "execution_count": 27,
   "metadata": {
    "colab": {
     "base_uri": "https://localhost:8080/",
     "height": 68
    },
    "colab_type": "code",
    "id": "YCOXRU8JYTkH",
    "outputId": "536246d0-d6fc-492a-8810-3e246bf0daa4"
   },
   "outputs": [
    {
     "name": "stdout",
     "output_type": "stream",
     "text": [
      "sigma =  tensor([0.6829, 0.1197, 0.4287, 0.1138, 0.1542])\n",
      "Solution    =  tensor([0.2068, 0.1419, 0.2027, 0.1541, 0.1496])\n",
      "NN solution =  tensor([0.2117, 0.1283, 0.1898, 0.1605, 0.1435], grad_fn=<AddBackward0>)\n"
     ]
    }
   ],
   "source": [
    "sigma, solution  = gen_minibatch()\n",
    "print('sigma = ', sigma)\n",
    "print('Solution    = ', solution)\n",
    "print('NN solution = ', model(sigma))"
   ]
  },
  {
   "cell_type": "code",
   "execution_count": null,
   "metadata": {},
   "outputs": [],
   "source": []
  }
 ],
 "metadata": {
  "colab": {
   "collapsed_sections": [],
   "name": "power_control.ipynb",
   "provenance": [],
   "version": "0.3.2"
  },
  "kernelspec": {
   "display_name": "Python 3",
   "language": "python",
   "name": "python3"
  },
  "language_info": {
   "codemirror_mode": {
    "name": "ipython",
    "version": 3
   },
   "file_extension": ".py",
   "mimetype": "text/x-python",
   "name": "python",
   "nbconvert_exporter": "python",
   "pygments_lexer": "ipython3",
   "version": "3.7.3"
  }
 },
 "nbformat": 4,
 "nbformat_minor": 4
}
